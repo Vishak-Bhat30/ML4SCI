{
 "cells": [
  {
   "cell_type": "markdown",
   "metadata": {},
   "source": [
    "# ML4SCI TASK 1\n",
    "\n",
    "# ELECTRON VS PHOTONS\n",
    "\n"
   ]
  },
  {
   "cell_type": "markdown",
   "metadata": {},
   "source": [
    "**Have trained the model in kaggle and then downloaded notebook and have paster here**"
   ]
  },
  {
   "cell_type": "markdown",
   "metadata": {},
   "source": [
    "**Used the GPU of the kaggle to train  the model**"
   ]
  },
  {
   "cell_type": "markdown",
   "metadata": {},
   "source": [
    "**The link of the kaggle notebook ---https://www.kaggle.com/code/vishakkbhat/ml4sci-task-1**"
   ]
  },
  {
   "cell_type": "code",
   "execution_count": 1,
   "metadata": {
    "execution": {
     "iopub.execute_input": "2023-03-02T13:53:27.984504Z",
     "iopub.status.busy": "2023-03-02T13:53:27.984125Z",
     "iopub.status.idle": "2023-03-02T13:53:28.014233Z",
     "shell.execute_reply": "2023-03-02T13:53:28.013120Z",
     "shell.execute_reply.started": "2023-03-02T13:53:27.984471Z"
    }
   },
   "outputs": [],
   "source": [
    "# importing basic modules\n",
    "import pandas as pd\n",
    "import numpy as np"
   ]
  },
  {
   "cell_type": "markdown",
   "metadata": {},
   "source": [
    "**To read the file of type hdf5 we need to import h5py**"
   ]
  },
  {
   "cell_type": "code",
   "execution_count": 2,
   "metadata": {
    "execution": {
     "iopub.execute_input": "2023-03-02T13:53:28.017550Z",
     "iopub.status.busy": "2023-03-02T13:53:28.016836Z",
     "iopub.status.idle": "2023-03-02T13:53:28.171787Z",
     "shell.execute_reply": "2023-03-02T13:53:28.170780Z",
     "shell.execute_reply.started": "2023-03-02T13:53:28.017511Z"
    }
   },
   "outputs": [],
   "source": [
    "import h5py"
   ]
  },
  {
   "cell_type": "markdown",
   "metadata": {},
   "source": [
    "**This code below separates the X and y for the training from both the directories inside the root/input directory**"
   ]
  },
  {
   "cell_type": "code",
   "execution_count": 3,
   "metadata": {
    "execution": {
     "iopub.execute_input": "2023-03-02T13:53:28.173804Z",
     "iopub.status.busy": "2023-03-02T13:53:28.173275Z",
     "iopub.status.idle": "2023-03-02T13:53:28.199437Z",
     "shell.execute_reply": "2023-03-02T13:53:28.197987Z",
     "shell.execute_reply.started": "2023-03-02T13:53:28.173760Z"
    }
   },
   "outputs": [],
   "source": [
    "vishak = h5py.File('/kaggle/input/electron-vs-photons-ml4sci/SingleElectronPt50_IMGCROPS_n249k_RHv1.hdf5')"
   ]
  },
  {
   "cell_type": "code",
   "execution_count": 4,
   "metadata": {
    "execution": {
     "iopub.execute_input": "2023-03-02T13:53:28.203280Z",
     "iopub.status.busy": "2023-03-02T13:53:28.202837Z",
     "iopub.status.idle": "2023-03-02T13:53:28.212743Z",
     "shell.execute_reply": "2023-03-02T13:53:28.211647Z",
     "shell.execute_reply.started": "2023-03-02T13:53:28.203237Z"
    }
   },
   "outputs": [
    {
     "data": {
      "text/plain": [
       "<KeysViewHDF5 ['X', 'y']>"
      ]
     },
     "execution_count": 4,
     "metadata": {},
     "output_type": "execute_result"
    }
   ],
   "source": [
    "vishak.keys()"
   ]
  },
  {
   "cell_type": "markdown",
   "metadata": {},
   "source": [
    "**WE SEE THAT IT CONTAINS X AND y INSINDE IT SO THAT WE CAN SPLIT IT LATER ON**"
   ]
  },
  {
   "cell_type": "code",
   "execution_count": 5,
   "metadata": {
    "execution": {
     "iopub.execute_input": "2023-03-02T13:53:28.216490Z",
     "iopub.status.busy": "2023-03-02T13:53:28.215237Z",
     "iopub.status.idle": "2023-03-02T13:53:28.225428Z",
     "shell.execute_reply": "2023-03-02T13:53:28.224379Z",
     "shell.execute_reply.started": "2023-03-02T13:53:28.216451Z"
    }
   },
   "outputs": [
    {
     "data": {
      "text/plain": [
       "<HDF5 dataset \"X\": shape (249000, 32, 32, 2), type \"<f4\">"
      ]
     },
     "execution_count": 5,
     "metadata": {},
     "output_type": "execute_result"
    }
   ],
   "source": [
    "vishak['/X']  # code to open the X values inside the File \n",
    "\n",
    "#Same way can be used for y "
   ]
  },
  {
   "cell_type": "markdown",
   "metadata": {},
   "source": [
    "****LETS CREATE A FUNCTION THAT CONCATENATES THE IMAGES OF TWO DIRECTORIES ie ELECTRONS AND PHOTONS****"
   ]
  },
  {
   "cell_type": "code",
   "execution_count": 6,
   "metadata": {
    "execution": {
     "iopub.execute_input": "2023-03-02T13:53:28.227580Z",
     "iopub.status.busy": "2023-03-02T13:53:28.227207Z",
     "iopub.status.idle": "2023-03-02T13:53:28.238093Z",
     "shell.execute_reply": "2023-03-02T13:53:28.236773Z",
     "shell.execute_reply.started": "2023-03-02T13:53:28.227545Z"
    }
   },
   "outputs": [],
   "source": [
    "img_rows, img_cols, nb_channels=32, 32, 2 #   channels=2(hit energy and time)  image dimension is 32*32\n",
    "input_dir = '/kaggle/input/electron-vs-photons-ml4sci'\n",
    "\n",
    "decays=['SinglePhotonPt50_IMGCROPS_n249k_RHv1','SingleElectronPt50_IMGCROPS_n249k_RHv1']\n",
    "\n",
    "def load_data(decays):\n",
    "    global input_dir\n",
    "\n",
    "    dsets = [h5py.File(input_dir+'/'+decay+'.hdf5') for decay in decays]\n",
    "\n",
    "    X = np.concatenate([dset['/X'][0:300000] for dset in dsets]) \n",
    "    y = np.concatenate([dset['/y'][0:300000] for dset in dsets])\n",
    "    assert len(X) == len(y)\n",
    "\n",
    "    return X, y\n",
    "\n"
   ]
  },
  {
   "cell_type": "code",
   "execution_count": 7,
   "metadata": {
    "execution": {
     "iopub.execute_input": "2023-03-02T13:53:28.240544Z",
     "iopub.status.busy": "2023-03-02T13:53:28.240005Z",
     "iopub.status.idle": "2023-03-02T13:53:44.712745Z",
     "shell.execute_reply": "2023-03-02T13:53:44.711692Z",
     "shell.execute_reply.started": "2023-03-02T13:53:28.240507Z"
    }
   },
   "outputs": [],
   "source": [
    "X,y=load_data(decays)"
   ]
  },
  {
   "cell_type": "code",
   "execution_count": 8,
   "metadata": {
    "execution": {
     "iopub.execute_input": "2023-03-02T13:53:44.715100Z",
     "iopub.status.busy": "2023-03-02T13:53:44.714657Z",
     "iopub.status.idle": "2023-03-02T13:53:44.720448Z",
     "shell.execute_reply": "2023-03-02T13:53:44.719085Z",
     "shell.execute_reply.started": "2023-03-02T13:53:44.715056Z"
    }
   },
   "outputs": [],
   "source": [
    "y=pd.DataFrame(y)"
   ]
  },
  {
   "cell_type": "code",
   "execution_count": 9,
   "metadata": {
    "execution": {
     "iopub.execute_input": "2023-03-02T13:53:44.722768Z",
     "iopub.status.busy": "2023-03-02T13:53:44.721776Z",
     "iopub.status.idle": "2023-03-02T13:53:44.762444Z",
     "shell.execute_reply": "2023-03-02T13:53:44.761406Z",
     "shell.execute_reply.started": "2023-03-02T13:53:44.722725Z"
    }
   },
   "outputs": [
    {
     "data": {
      "text/plain": [
       "0.0    249000\n",
       "1.0    249000\n",
       "dtype: int64"
      ]
     },
     "execution_count": 9,
     "metadata": {},
     "output_type": "execute_result"
    }
   ],
   "source": [
    "y.value_counts(normalize=False)"
   ]
  },
  {
   "cell_type": "code",
   "execution_count": 10,
   "metadata": {
    "execution": {
     "iopub.execute_input": "2023-03-02T13:53:44.768425Z",
     "iopub.status.busy": "2023-03-02T13:53:44.767498Z",
     "iopub.status.idle": "2023-03-02T13:53:44.773867Z",
     "shell.execute_reply": "2023-03-02T13:53:44.772655Z",
     "shell.execute_reply.started": "2023-03-02T13:53:44.768388Z"
    }
   },
   "outputs": [],
   "source": [
    "import matplotlib.pyplot as plt"
   ]
  },
  {
   "cell_type": "code",
   "execution_count": 11,
   "metadata": {
    "execution": {
     "iopub.execute_input": "2023-03-02T13:53:44.776202Z",
     "iopub.status.busy": "2023-03-02T13:53:44.775706Z",
     "iopub.status.idle": "2023-03-02T13:53:45.152792Z",
     "shell.execute_reply": "2023-03-02T13:53:45.151855Z",
     "shell.execute_reply.started": "2023-03-02T13:53:44.776164Z"
    }
   },
   "outputs": [
    {
     "data": {
      "image/png": "[encoded data removed]",
      "text/plain": [
       "<Figure size 640x480 with 1 Axes>"
      ]
     },
     "metadata": {},
     "output_type": "display_data"
    }
   ],
   "source": [
    "y.hist()\n",
    "plt.title(\"histogram showing distribution of electrons vs photons numbers\");"
   ]
  },
  {
   "cell_type": "markdown",
   "metadata": {},
   "source": [
    "**WE SEE THAT BOTH THE ELECTRONS AND PHOTONS HAVE EQUAL NUMBER OF IMAGES**"
   ]
  },
  {
   "cell_type": "markdown",
   "metadata": {},
   "source": [
    "**LETS TRY PRINTING THE IMAGE**"
   ]
  },
  {
   "cell_type": "code",
   "execution_count": 12,
   "metadata": {
    "execution": {
     "iopub.execute_input": "2023-03-02T13:53:45.154922Z",
     "iopub.status.busy": "2023-03-02T13:53:45.154516Z",
     "iopub.status.idle": "2023-03-02T13:53:45.161691Z",
     "shell.execute_reply": "2023-03-02T13:53:45.160661Z",
     "shell.execute_reply.started": "2023-03-02T13:53:45.154880Z"
    }
   },
   "outputs": [
    {
     "data": {
      "text/plain": [
       "(498000, 32, 32, 2)"
      ]
     },
     "execution_count": 12,
     "metadata": {},
     "output_type": "execute_result"
    }
   ],
   "source": [
    "X.shape"
   ]
  },
  {
   "cell_type": "code",
   "execution_count": 13,
   "metadata": {
    "execution": {
     "iopub.execute_input": "2023-03-02T13:53:45.163880Z",
     "iopub.status.busy": "2023-03-02T13:53:45.162952Z",
     "iopub.status.idle": "2023-03-02T13:53:45.173558Z",
     "shell.execute_reply": "2023-03-02T13:53:45.172352Z",
     "shell.execute_reply.started": "2023-03-02T13:53:45.163843Z"
    }
   },
   "outputs": [
    {
     "data": {
      "text/plain": [
       "(32, 32, 2)"
      ]
     },
     "execution_count": 13,
     "metadata": {},
     "output_type": "execute_result"
    }
   ],
   "source": [
    "X[0].shape"
   ]
  },
  {
   "cell_type": "code",
   "execution_count": 14,
   "metadata": {
    "execution": {
     "iopub.execute_input": "2023-03-02T13:53:45.176343Z",
     "iopub.status.busy": "2023-03-02T13:53:45.175122Z",
     "iopub.status.idle": "2023-03-02T13:53:45.407719Z",
     "shell.execute_reply": "2023-03-02T13:53:45.406721Z",
     "shell.execute_reply.started": "2023-03-02T13:53:45.176279Z"
    }
   },
   "outputs": [
    {
     "data": {
      "image/png": "[encoded data removed]",
      "text/plain": [
       "<Figure size 640x480 with 1 Axes>"
      ]
     },
     "metadata": {},
     "output_type": "display_data"
    }
   ],
   "source": [
    "plt.imshow(X[0,:,:,0])   #shows us the first channel out of the two channels \n",
    "plt.title(\"energy channel\");"
   ]
  },
  {
   "cell_type": "code",
   "execution_count": 15,
   "metadata": {
    "execution": {
     "iopub.execute_input": "2023-03-02T13:53:45.409731Z",
     "iopub.status.busy": "2023-03-02T13:53:45.409299Z",
     "iopub.status.idle": "2023-03-02T13:53:45.639168Z",
     "shell.execute_reply": "2023-03-02T13:53:45.638120Z",
     "shell.execute_reply.started": "2023-03-02T13:53:45.409689Z"
    }
   },
   "outputs": [
    {
     "data": {
      "image/png": "[encoded data removed]",
      "text/plain": [
       "<Figure size 640x480 with 1 Axes>"
      ]
     },
     "metadata": {},
     "output_type": "display_data"
    }
   ],
   "source": [
    "plt.imshow(X[0,:,:,1])   #shows us the second channel out of the two channels \n",
    "plt.title(\"time channel\");"
   ]
  },
  {
   "cell_type": "markdown",
   "metadata": {},
   "source": [
    "**REFERENCE**\n",
    "\n",
    "* DATASETS TAKEN FROM ML4SCI --\n",
    "https://cernbox.cern.ch/index.php/s/AtBT8y4MiQYFcgc (photons)\n",
    "https://cernbox.cern.ch/index.php/s/FbXw3V4XNyYB3oA (electrons)\n",
    "\n"
   ]
  },
  {
   "cell_type": "markdown",
   "metadata": {},
   "source": [
    "# PIPELINE OF THE PROJECT\n",
    "\n",
    "\n",
    "* LETS SPLIT THE DATA INTO TRAIN AND TEST\n",
    "* LETS CREATE THE DATASET AND DATA LOADER FIRST\n",
    "* CREATE THE ARCHITECTURE OF THE MODEL"
   ]
  },
  {
   "cell_type": "code",
   "execution_count": 16,
   "metadata": {
    "execution": {
     "iopub.execute_input": "2023-03-02T13:53:45.641814Z",
     "iopub.status.busy": "2023-03-02T13:53:45.640763Z",
     "iopub.status.idle": "2023-03-02T13:53:47.187761Z",
     "shell.execute_reply": "2023-03-02T13:53:47.186672Z",
     "shell.execute_reply.started": "2023-03-02T13:53:45.641770Z"
    }
   },
   "outputs": [],
   "source": [
    "X=X/(X.max())"
   ]
  },
  {
   "cell_type": "code",
   "execution_count": 17,
   "metadata": {
    "execution": {
     "iopub.execute_input": "2023-03-02T13:53:47.190076Z",
     "iopub.status.busy": "2023-03-02T13:53:47.189625Z",
     "iopub.status.idle": "2023-03-02T13:53:47.534709Z",
     "shell.execute_reply": "2023-03-02T13:53:47.533556Z",
     "shell.execute_reply.started": "2023-03-02T13:53:47.190031Z"
    }
   },
   "outputs": [],
   "source": [
    "from sklearn.model_selection import train_test_split"
   ]
  },
  {
   "cell_type": "code",
   "execution_count": 18,
   "metadata": {
    "execution": {
     "iopub.execute_input": "2023-03-02T13:53:47.537089Z",
     "iopub.status.busy": "2023-03-02T13:53:47.536668Z",
     "iopub.status.idle": "2023-03-02T13:53:47.542959Z",
     "shell.execute_reply": "2023-03-02T13:53:47.541757Z",
     "shell.execute_reply.started": "2023-03-02T13:53:47.537046Z"
    }
   },
   "outputs": [],
   "source": [
    "X=X.transpose(0,3,1,2)"
   ]
  },
  {
   "cell_type": "code",
   "execution_count": 19,
   "metadata": {
    "execution": {
     "iopub.execute_input": "2023-03-02T13:53:47.545348Z",
     "iopub.status.busy": "2023-03-02T13:53:47.544870Z",
     "iopub.status.idle": "2023-03-02T13:53:48.790706Z",
     "shell.execute_reply": "2023-03-02T13:53:48.789457Z",
     "shell.execute_reply.started": "2023-03-02T13:53:47.545289Z"
    }
   },
   "outputs": [],
   "source": [
    "X_train,X_test,y_train,y_test=train_test_split(X,y,test_size=0.1,shuffle=True,random_state=17)"
   ]
  },
  {
   "cell_type": "code",
   "execution_count": 20,
   "metadata": {
    "execution": {
     "iopub.execute_input": "2023-03-02T13:53:48.792541Z",
     "iopub.status.busy": "2023-03-02T13:53:48.792182Z",
     "iopub.status.idle": "2023-03-02T13:53:51.131339Z",
     "shell.execute_reply": "2023-03-02T13:53:51.130195Z",
     "shell.execute_reply.started": "2023-03-02T13:53:48.792502Z"
    }
   },
   "outputs": [],
   "source": [
    "import torch\n",
    "import torch.nn as nn\n",
    "from torch.utils.data import Dataset,DataLoader\n",
    "import torch.nn.functional as F\n"
   ]
  },
  {
   "cell_type": "code",
   "execution_count": 21,
   "metadata": {
    "execution": {
     "iopub.execute_input": "2023-03-02T13:53:51.134573Z",
     "iopub.status.busy": "2023-03-02T13:53:51.133566Z",
     "iopub.status.idle": "2023-03-02T13:53:51.199470Z",
     "shell.execute_reply": "2023-03-02T13:53:51.198369Z",
     "shell.execute_reply.started": "2023-03-02T13:53:51.134532Z"
    }
   },
   "outputs": [],
   "source": [
    "device=torch.device('cuda' if torch.cuda.is_available() else 'cpu')"
   ]
  },
  {
   "cell_type": "code",
   "execution_count": 22,
   "metadata": {
    "execution": {
     "iopub.execute_input": "2023-03-02T13:53:51.201930Z",
     "iopub.status.busy": "2023-03-02T13:53:51.201578Z",
     "iopub.status.idle": "2023-03-02T13:53:51.216788Z",
     "shell.execute_reply": "2023-03-02T13:53:51.215736Z",
     "shell.execute_reply.started": "2023-03-02T13:53:51.201894Z"
    }
   },
   "outputs": [
    {
     "data": {
      "text/plain": [
       "device(type='cuda')"
      ]
     },
     "execution_count": 22,
     "metadata": {},
     "output_type": "execute_result"
    }
   ],
   "source": [
    "device"
   ]
  },
  {
   "cell_type": "code",
   "execution_count": 23,
   "metadata": {
    "execution": {
     "iopub.execute_input": "2023-03-02T13:53:51.221006Z",
     "iopub.status.busy": "2023-03-02T13:53:51.220653Z",
     "iopub.status.idle": "2023-03-02T13:53:51.228985Z",
     "shell.execute_reply": "2023-03-02T13:53:51.227891Z",
     "shell.execute_reply.started": "2023-03-02T13:53:51.220978Z"
    }
   },
   "outputs": [],
   "source": [
    "y_train=np.array(y_train)\n",
    "y_test=np.array(y_test)\n"
   ]
  },
  {
   "cell_type": "code",
   "execution_count": null,
   "metadata": {},
   "outputs": [],
   "source": []
  },
  {
   "cell_type": "code",
   "execution_count": 24,
   "metadata": {
    "execution": {
     "iopub.execute_input": "2023-03-02T13:53:51.231373Z",
     "iopub.status.busy": "2023-03-02T13:53:51.231075Z",
     "iopub.status.idle": "2023-03-02T13:53:58.659085Z",
     "shell.execute_reply": "2023-03-02T13:53:58.658044Z",
     "shell.execute_reply.started": "2023-03-02T13:53:51.231340Z"
    }
   },
   "outputs": [],
   "source": [
    "X_train=(torch.tensor(X_train,dtype=torch.float32)).to(device)\n",
    "X_test=torch.tensor(X_test,dtype=torch.float32)\n",
    "y_train=torch.tensor(y_train,dtype=torch.float32).to(device)\n",
    "y_test=torch.tensor(y_test,dtype=torch.float32)\n"
   ]
  },
  {
   "cell_type": "markdown",
   "metadata": {},
   "source": [
    "**Creating A dataset class which returns the training example for the given index under the getindex function**"
   ]
  },
  {
   "cell_type": "code",
   "execution_count": 25,
   "metadata": {
    "execution": {
     "iopub.execute_input": "2023-03-02T13:53:58.661347Z",
     "iopub.status.busy": "2023-03-02T13:53:58.660896Z",
     "iopub.status.idle": "2023-03-02T13:53:58.668348Z",
     "shell.execute_reply": "2023-03-02T13:53:58.666833Z",
     "shell.execute_reply.started": "2023-03-02T13:53:58.661280Z"
    }
   },
   "outputs": [],
   "source": [
    "class train_dset(Dataset):\n",
    "    \n",
    "    def __init__(self,X,y):\n",
    "        \n",
    "        self.X=X\n",
    "        self.y=y\n",
    "        \n",
    "    def __len__(self):\n",
    "        return len(self.X)\n",
    "    \n",
    "    def __getitem__(self,idx):\n",
    "        \n",
    "        return self.X[idx],self.y[idx]\n",
    "    "
   ]
  },
  {
   "cell_type": "code",
   "execution_count": 26,
   "metadata": {
    "execution": {
     "iopub.execute_input": "2023-03-02T13:53:58.670672Z",
     "iopub.status.busy": "2023-03-02T13:53:58.670174Z",
     "iopub.status.idle": "2023-03-02T13:53:58.681742Z",
     "shell.execute_reply": "2023-03-02T13:53:58.680586Z",
     "shell.execute_reply.started": "2023-03-02T13:53:58.670631Z"
    }
   },
   "outputs": [],
   "source": [
    "traindset= train_dset(X_train,y_train)\n"
   ]
  },
  {
   "cell_type": "markdown",
   "metadata": {},
   "source": [
    "**Setting up the train loader so that we can use the dataloader to feed to the training loop**"
   ]
  },
  {
   "cell_type": "code",
   "execution_count": 27,
   "metadata": {
    "execution": {
     "iopub.execute_input": "2023-03-02T13:53:58.683559Z",
     "iopub.status.busy": "2023-03-02T13:53:58.683116Z",
     "iopub.status.idle": "2023-03-02T13:53:58.692865Z",
     "shell.execute_reply": "2023-03-02T13:53:58.691891Z",
     "shell.execute_reply.started": "2023-03-02T13:53:58.683522Z"
    }
   },
   "outputs": [],
   "source": [
    "train_loader= DataLoader(traindset,batch_size=32,shuffle=True)"
   ]
  },
  {
   "cell_type": "code",
   "execution_count": 28,
   "metadata": {
    "execution": {
     "iopub.execute_input": "2023-03-02T13:53:58.699847Z",
     "iopub.status.busy": "2023-03-02T13:53:58.698961Z",
     "iopub.status.idle": "2023-03-02T13:53:58.818908Z",
     "shell.execute_reply": "2023-03-02T13:53:58.818008Z",
     "shell.execute_reply.started": "2023-03-02T13:53:58.699820Z"
    }
   },
   "outputs": [
    {
     "data": {
      "text/plain": [
       "torch.Size([32, 2, 32, 32])"
      ]
     },
     "execution_count": 28,
     "metadata": {},
     "output_type": "execute_result"
    }
   ],
   "source": [
    "next(iter(train_loader))[0].shape"
   ]
  },
  {
   "cell_type": "markdown",
   "metadata": {},
   "source": [
    "**Created a class for the architecture of the CNN network with 2 conv layers followed by fully conncected \n",
    "layers. Have used ReLU activation**"
   ]
  },
  {
   "cell_type": "code",
   "execution_count": 29,
   "metadata": {
    "execution": {
     "iopub.execute_input": "2023-03-02T13:53:58.821418Z",
     "iopub.status.busy": "2023-03-02T13:53:58.820555Z",
     "iopub.status.idle": "2023-03-02T13:53:58.831354Z",
     "shell.execute_reply": "2023-03-02T13:53:58.830218Z",
     "shell.execute_reply.started": "2023-03-02T13:53:58.821371Z"
    }
   },
   "outputs": [],
   "source": [
    "class EPArchi(nn.Module):\n",
    "    def __init__(self):\n",
    "        super(EPArchi, self).__init__()\n",
    "        # define convolutional layers\n",
    "        self.conv1 = nn.Conv2d(in_channels=2, out_channels=16, kernel_size=3, stride=1, padding=1)\n",
    "        self.conv2 = nn.Conv2d(in_channels=16, out_channels=32, kernel_size=3, stride=1, padding=1)\n",
    "        # define fully connected layers\n",
    "        self.fc1 = nn.Linear(in_features=32*8*8, out_features=64)\n",
    "        self.fc2 = nn.Linear(in_features=64, out_features=1)\n",
    "        # define activation function\n",
    "        self.relu = nn.ReLU()\n",
    "        self.sigmoid = nn.Sigmoid()\n",
    "\n",
    "    def forward(self, x):\n",
    "        # pass input through convolutional layers\n",
    "        x = self.conv1(x)\n",
    "        x = self.relu(x)\n",
    "        x = nn.functional.max_pool2d(x, 2)\n",
    "        x = self.conv2(x)\n",
    "        x = self.relu(x)\n",
    "        x = nn.functional.max_pool2d(x, 2)\n",
    "        # flatten the output of convolutional layers\n",
    "        x = torch.flatten(x, 1)\n",
    "        # pass the flattened output through fully connected layers\n",
    "        x = self.fc1(x)\n",
    "        x = self.relu(x)\n",
    "        x = self.fc2(x)\n",
    "        # apply sigmoid activation function to output\n",
    "        x = self.sigmoid(x)\n",
    "        return x\n"
   ]
  },
  {
   "cell_type": "code",
   "execution_count": 30,
   "metadata": {
    "execution": {
     "iopub.execute_input": "2023-03-02T13:53:58.833900Z",
     "iopub.status.busy": "2023-03-02T13:53:58.833074Z",
     "iopub.status.idle": "2023-03-02T13:53:58.852358Z",
     "shell.execute_reply": "2023-03-02T13:53:58.851264Z",
     "shell.execute_reply.started": "2023-03-02T13:53:58.833861Z"
    }
   },
   "outputs": [],
   "source": [
    "model = EPArchi().to(device) "
   ]
  },
  {
   "cell_type": "markdown",
   "metadata": {},
   "source": [
    "# TRAINING LOOP"
   ]
  },
  {
   "cell_type": "markdown",
   "metadata": {},
   "source": [
    "**Have used BCE loss function**\n",
    "\n",
    "** ADAM optimization **"
   ]
  },
  {
   "cell_type": "code",
   "execution_count": null,
   "metadata": {},
   "outputs": [],
   "source": [
    "\n",
    "import torch\n",
    "import torch.nn as nn\n",
    "import torch.optim as optim\n",
    "import matplotlib.pyplot as plt\n",
    "\n",
    "# define hyperparameters\n",
    "batch_size = 32\n",
    "learning_rate = 1e-3\n",
    "num_epochs = 80\n",
    "\n",
    "model=model.to(device)\n",
    "\n",
    "\n",
    "# define loss function and optimizer\n",
    "criterion = nn.BCELoss()\n",
    "optimizer = optim.Adam(model.parameters(), lr=learning_rate)\n",
    "\n",
    "# initialize variables for storing loss and epoch count\n",
    "train_loss = []\n",
    "epoch_count = []\n",
    "\n",
    "# train model\n",
    "for epoch in range(num_epochs):\n",
    "    running_loss = 0.0\n",
    "    for i, data in enumerate(train_loader, 0):\n",
    "        # get the inputs and labels from the dataloader\n",
    "        inputs, labels = data\n",
    "\n",
    "        # zero the parameter gradients\n",
    "        optimizer.zero_grad()\n",
    "\n",
    "        # forward + backward + optimize\n",
    "        outputs = model(inputs)\n",
    "        loss = criterion(outputs, labels)\n",
    "        loss.backward()\n",
    "        optimizer.step()\n",
    "\n",
    "        # print statistics\n",
    "        running_loss += loss.item()\n",
    "\n",
    "    # store the epoch loss and epoch count\n",
    "    train_loss.append(running_loss / len(train_loader))\n",
    "    epoch_count.append(epoch + 1)\n",
    "\n",
    "    # print epoch statistics\n",
    "    print('Epoch %d loss: %.3f' % (epoch+1, running_loss / len(train_loader)))\n",
    "\n",
    "# plot the loss graph\n",
    "plt.plot(epoch_count, train_loss)\n",
    "plt.xlabel('Epoch')\n",
    "plt.ylabel('Loss')\n",
    "plt.show()\n",
    "\n",
    "print('Finished training')\n"
   ]
  },
  {
   "cell_type": "code",
   "execution_count": 32,
   "metadata": {
    "execution": {
     "iopub.execute_input": "2023-03-02T14:43:43.288974Z",
     "iopub.status.busy": "2023-03-02T14:43:43.288162Z",
     "iopub.status.idle": "2023-03-02T14:43:57.477632Z",
     "shell.execute_reply": "2023-03-02T14:43:57.476569Z",
     "shell.execute_reply.started": "2023-03-02T14:43:43.288932Z"
    }
   },
   "outputs": [
    {
     "name": "stdout",
     "output_type": "stream",
     "text": [
      "Test ROC AUC: 0.801\n"
     ]
    },
    {
     "data": {
      "image/png": "[encoded data removed]",
      "text/plain": [
       "<Figure size 640x480 with 1 Axes>"
      ]
     },
     "metadata": {},
     "output_type": "display_data"
    }
   ],
   "source": [
    "from sklearn.metrics import roc_auc_score, roc_curve\n",
    "# set model to evaluation mode\n",
    "model.eval()\n",
    "mdoel=model.to('cpu')\n",
    "\n",
    "# evaluate test data\n",
    "with torch.no_grad():\n",
    "    y_pred = (model(X_test))\n",
    "#     test_loss = nn.BCELoss()(y_pred, y_test.float())\n",
    "    test_roc_auc = roc_auc_score(y_test, y_pred)\n",
    "\n",
    "# print('Test Loss: %.3f' % test_loss)\n",
    "print('Test ROC AUC: %.3f' % test_roc_auc)\n",
    "\n",
    "# plot ROC curve\n",
    "fpr, tpr, thresholds = roc_curve(y_test, y_pred)\n",
    "plt.plot(fpr, tpr)\n",
    "plt.xlabel('False Positive Rate')\n",
    "plt.ylabel('True Positive Rate')\n",
    "plt.title('ROC Curve')\n",
    "plt.show()\n"
   ]
  },
  {
   "cell_type": "markdown",
   "metadata": {},
   "source": [
    "**After a lot of time in tuning the hyper parameters managed to get the ROC AUC above 80 and the above graph shows it **\n",
    "\n"
   ]
  },
  {
   "cell_type": "code",
   "execution_count": null,
   "metadata": {},
   "outputs": [],
   "source": []
  }
 ],
 "metadata": {
  "kernelspec": {
   "display_name": "Python 3 (ipykernel)",
   "language": "python",
   "name": "python3"
  },
  "language_info": {
   "codemirror_mode": {
    "name": "ipython",
    "version": 3
   },
   "file_extension": ".py",
   "mimetype": "text/x-python",
   "name": "python",
   "nbconvert_exporter": "python",
   "pygments_lexer": "ipython3",
   "version": "3.10.2"
  }
 },
 "nbformat": 4,
 "nbformat_minor": 4
}
