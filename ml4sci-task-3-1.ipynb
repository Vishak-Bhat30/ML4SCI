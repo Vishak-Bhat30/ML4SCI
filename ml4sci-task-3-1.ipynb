{
 "cells": [
  {
   "cell_type": "markdown",
   "metadata": {},
   "source": [
    "# **ML4SCI TASK 3.1**\n",
    "\n",
    "# **ELECTRON VS PHOTONS**\n",
    "\n",
    "# ViT- Vision Transformer....  \n",
    "#  Vision Transformers for End-to-End Particle Identification with the CMS Experiment\n",
    "*  (**model inspired from \"An image is worth 16*16 word\"**),\n",
    "*  (**\"Attention is all you need\"**)    \n",
    "\n",
    "\n"
   ]
  },
  {
   "cell_type": "markdown",
   "metadata": {},
   "source": [
    "**Since the data set of this and the Task1 is the same I have used the same starting code to import and create data loaders**"
   ]
  },
  {
   "cell_type": "code",
   "execution_count": 1,
   "metadata": {
    "execution": {
     "iopub.execute_input": "2023-03-08T05:04:36.452958Z",
     "iopub.status.busy": "2023-03-08T05:04:36.452271Z",
     "iopub.status.idle": "2023-03-08T05:04:36.463760Z",
     "shell.execute_reply": "2023-03-08T05:04:36.462305Z",
     "shell.execute_reply.started": "2023-03-08T05:04:36.452906Z"
    }
   },
   "outputs": [],
   "source": [
    "# importing basic modules\n",
    "import pandas as pd\n",
    "import numpy as np"
   ]
  },
  {
   "cell_type": "markdown",
   "metadata": {},
   "source": [
    "**To read the file of type hdf5 we need to import h5py**"
   ]
  },
  {
   "cell_type": "code",
   "execution_count": 2,
   "metadata": {
    "execution": {
     "iopub.execute_input": "2023-03-08T05:04:36.467316Z",
     "iopub.status.busy": "2023-03-08T05:04:36.466174Z",
     "iopub.status.idle": "2023-03-08T05:04:36.564528Z",
     "shell.execute_reply": "2023-03-08T05:04:36.563490Z",
     "shell.execute_reply.started": "2023-03-08T05:04:36.467276Z"
    }
   },
   "outputs": [],
   "source": [
    "import h5py"
   ]
  },
  {
   "cell_type": "markdown",
   "metadata": {},
   "source": [
    "**This code below separates the X and y for the training from both the directories inside the root/input directory**"
   ]
  },
  {
   "cell_type": "code",
   "execution_count": 3,
   "metadata": {
    "execution": {
     "iopub.execute_input": "2023-03-08T05:04:36.567247Z",
     "iopub.status.busy": "2023-03-08T05:04:36.566483Z",
     "iopub.status.idle": "2023-03-08T05:04:36.589611Z",
     "shell.execute_reply": "2023-03-08T05:04:36.588519Z",
     "shell.execute_reply.started": "2023-03-08T05:04:36.567205Z"
    }
   },
   "outputs": [],
   "source": [
    "vishak = h5py.File('/kaggle/input/electron-vs-photons-ml4sci/SingleElectronPt50_IMGCROPS_n249k_RHv1.hdf5')"
   ]
  },
  {
   "cell_type": "code",
   "execution_count": 4,
   "metadata": {
    "execution": {
     "iopub.execute_input": "2023-03-08T05:04:36.593748Z",
     "iopub.status.busy": "2023-03-08T05:04:36.593416Z",
     "iopub.status.idle": "2023-03-08T05:04:36.604419Z",
     "shell.execute_reply": "2023-03-08T05:04:36.603214Z",
     "shell.execute_reply.started": "2023-03-08T05:04:36.593720Z"
    }
   },
   "outputs": [
    {
     "data": {
      "text/plain": [
       "<KeysViewHDF5 ['X', 'y']>"
      ]
     },
     "execution_count": 4,
     "metadata": {},
     "output_type": "execute_result"
    }
   ],
   "source": [
    "vishak.keys()"
   ]
  },
  {
   "cell_type": "markdown",
   "metadata": {},
   "source": [
    "**WE SEE THAT IT CONTAINS X AND y INSINDE IT SO THAT WE CAN SPLIT IT LATER ON**"
   ]
  },
  {
   "cell_type": "code",
   "execution_count": 5,
   "metadata": {
    "execution": {
     "iopub.execute_input": "2023-03-08T05:04:36.606889Z",
     "iopub.status.busy": "2023-03-08T05:04:36.606328Z",
     "iopub.status.idle": "2023-03-08T05:04:36.617459Z",
     "shell.execute_reply": "2023-03-08T05:04:36.616138Z",
     "shell.execute_reply.started": "2023-03-08T05:04:36.606797Z"
    }
   },
   "outputs": [
    {
     "data": {
      "text/plain": [
       "<HDF5 dataset \"X\": shape (249000, 32, 32, 2), type \"<f4\">"
      ]
     },
     "execution_count": 5,
     "metadata": {},
     "output_type": "execute_result"
    }
   ],
   "source": [
    "vishak['/X']  # code to open the X values inside the File \n",
    "\n",
    "#Same way can be used for y "
   ]
  },
  {
   "cell_type": "markdown",
   "metadata": {},
   "source": [
    "****LETS CREATE A FUNCTION THAT CONCATENATES THE IMAGES OF TWO DIRECTORIES ie ELECTRONS AND PHOTONS****"
   ]
  },
  {
   "cell_type": "code",
   "execution_count": 6,
   "metadata": {
    "execution": {
     "iopub.execute_input": "2023-03-08T05:04:36.619865Z",
     "iopub.status.busy": "2023-03-08T05:04:36.619469Z",
     "iopub.status.idle": "2023-03-08T05:04:36.632817Z",
     "shell.execute_reply": "2023-03-08T05:04:36.631594Z",
     "shell.execute_reply.started": "2023-03-08T05:04:36.619827Z"
    }
   },
   "outputs": [],
   "source": [
    "img_rows, img_cols, nb_channels=32, 32, 2 #   channels=2(hit energy and time)  image dimension is 32*32\n",
    "input_dir = '/kaggle/input/electron-vs-photons-ml4sci'\n",
    "\n",
    "decays=['SinglePhotonPt50_IMGCROPS_n249k_RHv1','SingleElectronPt50_IMGCROPS_n249k_RHv1']\n",
    "\n",
    "def load_data(decays):\n",
    "    global input_dir\n",
    "\n",
    "    dsets = [h5py.File(input_dir+'/'+decay+'.hdf5') for decay in decays]\n",
    "\n",
    "    X = np.concatenate([dset['/X'][0:300000] for dset in dsets]) \n",
    "    y = np.concatenate([dset['/y'][0:300000] for dset in dsets])\n",
    "    assert len(X) == len(y)\n",
    "\n",
    "    return X, y\n",
    "\n"
   ]
  },
  {
   "cell_type": "code",
   "execution_count": 7,
   "metadata": {
    "execution": {
     "iopub.execute_input": "2023-03-08T05:04:36.639775Z",
     "iopub.status.busy": "2023-03-08T05:04:36.636145Z",
     "iopub.status.idle": "2023-03-08T05:04:49.875535Z",
     "shell.execute_reply": "2023-03-08T05:04:49.874488Z",
     "shell.execute_reply.started": "2023-03-08T05:04:36.639736Z"
    }
   },
   "outputs": [],
   "source": [
    "X,y=load_data(decays)"
   ]
  },
  {
   "cell_type": "code",
   "execution_count": 8,
   "metadata": {
    "execution": {
     "iopub.execute_input": "2023-03-08T05:04:49.877785Z",
     "iopub.status.busy": "2023-03-08T05:04:49.877362Z",
     "iopub.status.idle": "2023-03-08T05:04:49.883062Z",
     "shell.execute_reply": "2023-03-08T05:04:49.881860Z",
     "shell.execute_reply.started": "2023-03-08T05:04:49.877745Z"
    }
   },
   "outputs": [],
   "source": [
    "y=pd.DataFrame(y)"
   ]
  },
  {
   "cell_type": "code",
   "execution_count": 9,
   "metadata": {
    "execution": {
     "iopub.execute_input": "2023-03-08T05:04:49.885854Z",
     "iopub.status.busy": "2023-03-08T05:04:49.885088Z",
     "iopub.status.idle": "2023-03-08T05:04:49.915232Z",
     "shell.execute_reply": "2023-03-08T05:04:49.914263Z",
     "shell.execute_reply.started": "2023-03-08T05:04:49.885816Z"
    }
   },
   "outputs": [
    {
     "data": {
      "text/plain": [
       "0.0    200000\n",
       "1.0    200000\n",
       "dtype: int64"
      ]
     },
     "execution_count": 9,
     "metadata": {},
     "output_type": "execute_result"
    }
   ],
   "source": [
    "y.value_counts(normalize=False)"
   ]
  },
  {
   "cell_type": "code",
   "execution_count": 10,
   "metadata": {
    "execution": {
     "iopub.execute_input": "2023-03-08T05:04:49.918912Z",
     "iopub.status.busy": "2023-03-08T05:04:49.918591Z",
     "iopub.status.idle": "2023-03-08T05:04:49.924752Z",
     "shell.execute_reply": "2023-03-08T05:04:49.923644Z",
     "shell.execute_reply.started": "2023-03-08T05:04:49.918884Z"
    }
   },
   "outputs": [],
   "source": [
    "import matplotlib.pyplot as plt"
   ]
  },
  {
   "cell_type": "code",
   "execution_count": 11,
   "metadata": {
    "execution": {
     "iopub.execute_input": "2023-03-08T05:04:49.927589Z",
     "iopub.status.busy": "2023-03-08T05:04:49.926234Z",
     "iopub.status.idle": "2023-03-08T05:04:50.211503Z",
     "shell.execute_reply": "2023-03-08T05:04:50.210379Z",
     "shell.execute_reply.started": "2023-03-08T05:04:49.927549Z"
    }
   },
   "outputs": [
    {
     "data": {
      "image/png": "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\n",
      "text/plain": [
       "<Figure size 640x480 with 1 Axes>"
      ]
     },
     "metadata": {},
     "output_type": "display_data"
    }
   ],
   "source": [
    "y.hist()\n",
    "plt.title(\"histogram showing distribution of electrons vs photons numbers\");"
   ]
  },
  {
   "cell_type": "markdown",
   "metadata": {},
   "source": [
    "**WE SEE THAT BOTH THE ELECTRONS AND PHOTONS HAVE EQUAL NUMBER OF IMAGES**"
   ]
  },
  {
   "cell_type": "markdown",
   "metadata": {},
   "source": [
    "**LETS TRY PRINTING THE IMAGE**"
   ]
  },
  {
   "cell_type": "code",
   "execution_count": 12,
   "metadata": {
    "execution": {
     "iopub.execute_input": "2023-03-08T05:04:50.214328Z",
     "iopub.status.busy": "2023-03-08T05:04:50.213010Z",
     "iopub.status.idle": "2023-03-08T05:04:50.221340Z",
     "shell.execute_reply": "2023-03-08T05:04:50.220222Z",
     "shell.execute_reply.started": "2023-03-08T05:04:50.214288Z"
    }
   },
   "outputs": [
    {
     "data": {
      "text/plain": [
       "(400000, 32, 32, 2)"
      ]
     },
     "execution_count": 12,
     "metadata": {},
     "output_type": "execute_result"
    }
   ],
   "source": [
    "X.shape"
   ]
  },
  {
   "cell_type": "code",
   "execution_count": 13,
   "metadata": {
    "execution": {
     "iopub.execute_input": "2023-03-08T05:04:50.227900Z",
     "iopub.status.busy": "2023-03-08T05:04:50.227623Z",
     "iopub.status.idle": "2023-03-08T05:04:50.236583Z",
     "shell.execute_reply": "2023-03-08T05:04:50.235489Z",
     "shell.execute_reply.started": "2023-03-08T05:04:50.227874Z"
    }
   },
   "outputs": [
    {
     "data": {
      "text/plain": [
       "(32, 32, 2)"
      ]
     },
     "execution_count": 13,
     "metadata": {},
     "output_type": "execute_result"
    }
   ],
   "source": [
    "X[0].shape"
   ]
  },
  {
   "cell_type": "code",
   "execution_count": 14,
   "metadata": {
    "execution": {
     "iopub.execute_input": "2023-03-08T05:04:50.238631Z",
     "iopub.status.busy": "2023-03-08T05:04:50.238263Z",
     "iopub.status.idle": "2023-03-08T05:04:50.464703Z",
     "shell.execute_reply": "2023-03-08T05:04:50.463496Z",
     "shell.execute_reply.started": "2023-03-08T05:04:50.238594Z"
    }
   },
   "outputs": [
    {
     "data": {
      "image/png": "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\n",
      "text/plain": [
       "<Figure size 640x480 with 1 Axes>"
      ]
     },
     "metadata": {},
     "output_type": "display_data"
    }
   ],
   "source": [
    "plt.imshow(X[0,:,:,0])   #shows us the first channel out of the two channels \n",
    "plt.title(\"energy channel\");"
   ]
  },
  {
   "cell_type": "code",
   "execution_count": 15,
   "metadata": {
    "execution": {
     "iopub.execute_input": "2023-03-08T05:04:50.466728Z",
     "iopub.status.busy": "2023-03-08T05:04:50.466029Z",
     "iopub.status.idle": "2023-03-08T05:04:50.690523Z",
     "shell.execute_reply": "2023-03-08T05:04:50.689461Z",
     "shell.execute_reply.started": "2023-03-08T05:04:50.466695Z"
    }
   },
   "outputs": [
    {
     "data": {
      "image/png": "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\n",
      "text/plain": [
       "<Figure size 640x480 with 1 Axes>"
      ]
     },
     "metadata": {},
     "output_type": "display_data"
    }
   ],
   "source": [
    "plt.imshow(X[0,:,:,1])   #shows us the second channel out of the two channels \n",
    "plt.title(\"time channel\");"
   ]
  },
  {
   "cell_type": "markdown",
   "metadata": {},
   "source": [
    "**REFERENCE**\n",
    "\n",
    "* DATASETS TAKEN FROM ML4SCI --\n",
    "https://cernbox.cern.ch/index.php/s/AtBT8y4MiQYFcgc (photons)\n",
    "https://cernbox.cern.ch/index.php/s/FbXw3V4XNyYB3oA (electrons)\n",
    "\n"
   ]
  },
  {
   "cell_type": "markdown",
   "metadata": {},
   "source": [
    "# PIPELINE OF THE PROJECT\n",
    "\n",
    "\n",
    "* LETS SPLIT THE DATA INTO TRAIN AND TEST\n",
    "* LETS CREATE THE DATASET AND DATA LOADER FIRST\n",
    "* CREATE THE ARCHITECTURE OF THE MODEL"
   ]
  },
  {
   "cell_type": "code",
   "execution_count": 16,
   "metadata": {
    "execution": {
     "iopub.execute_input": "2023-03-08T05:04:50.693743Z",
     "iopub.status.busy": "2023-03-08T05:04:50.691934Z",
     "iopub.status.idle": "2023-03-08T05:04:51.951467Z",
     "shell.execute_reply": "2023-03-08T05:04:51.950363Z",
     "shell.execute_reply.started": "2023-03-08T05:04:50.693684Z"
    }
   },
   "outputs": [],
   "source": [
    "X=X/(X.max())"
   ]
  },
  {
   "cell_type": "code",
   "execution_count": 17,
   "metadata": {
    "execution": {
     "iopub.execute_input": "2023-03-08T05:04:51.953671Z",
     "iopub.status.busy": "2023-03-08T05:04:51.952834Z",
     "iopub.status.idle": "2023-03-08T05:04:52.450868Z",
     "shell.execute_reply": "2023-03-08T05:04:52.449231Z",
     "shell.execute_reply.started": "2023-03-08T05:04:51.953625Z"
    }
   },
   "outputs": [],
   "source": [
    "from sklearn.model_selection import train_test_split"
   ]
  },
  {
   "cell_type": "code",
   "execution_count": 18,
   "metadata": {
    "execution": {
     "iopub.execute_input": "2023-03-08T05:04:52.455360Z",
     "iopub.status.busy": "2023-03-08T05:04:52.454554Z",
     "iopub.status.idle": "2023-03-08T05:04:52.461688Z",
     "shell.execute_reply": "2023-03-08T05:04:52.459233Z",
     "shell.execute_reply.started": "2023-03-08T05:04:52.455316Z"
    }
   },
   "outputs": [],
   "source": [
    "X=X.transpose(0,3,1,2)"
   ]
  },
  {
   "cell_type": "markdown",
   "metadata": {},
   "source": [
    "**splitting the dataset into train and test sets**"
   ]
  },
  {
   "cell_type": "code",
   "execution_count": 19,
   "metadata": {
    "execution": {
     "iopub.execute_input": "2023-03-08T05:04:52.464502Z",
     "iopub.status.busy": "2023-03-08T05:04:52.463220Z",
     "iopub.status.idle": "2023-03-08T05:04:53.531443Z",
     "shell.execute_reply": "2023-03-08T05:04:53.530321Z",
     "shell.execute_reply.started": "2023-03-08T05:04:52.464463Z"
    }
   },
   "outputs": [],
   "source": [
    "X_train,X_test,y_train,y_test=train_test_split(X,y,test_size=0.1,shuffle=True,random_state=17)"
   ]
  },
  {
   "cell_type": "code",
   "execution_count": 20,
   "metadata": {
    "execution": {
     "iopub.execute_input": "2023-03-08T05:04:53.533628Z",
     "iopub.status.busy": "2023-03-08T05:04:53.533168Z",
     "iopub.status.idle": "2023-03-08T05:04:54.621189Z",
     "shell.execute_reply": "2023-03-08T05:04:54.620090Z",
     "shell.execute_reply.started": "2023-03-08T05:04:53.533579Z"
    }
   },
   "outputs": [],
   "source": [
    "import torch\n",
    "import torch.nn as nn\n",
    "from torch.utils.data import Dataset,DataLoader\n",
    "import torch.nn.functional as F\n"
   ]
  },
  {
   "cell_type": "markdown",
   "metadata": {},
   "source": [
    "**Setting the device to cuda if its available**"
   ]
  },
  {
   "cell_type": "code",
   "execution_count": 21,
   "metadata": {
    "execution": {
     "iopub.execute_input": "2023-03-08T05:04:54.623633Z",
     "iopub.status.busy": "2023-03-08T05:04:54.622924Z",
     "iopub.status.idle": "2023-03-08T05:04:54.655772Z",
     "shell.execute_reply": "2023-03-08T05:04:54.654605Z",
     "shell.execute_reply.started": "2023-03-08T05:04:54.623585Z"
    }
   },
   "outputs": [],
   "source": [
    "device=torch.device('cuda' if torch.cuda.is_available() else 'cpu')"
   ]
  },
  {
   "cell_type": "code",
   "execution_count": 22,
   "metadata": {
    "execution": {
     "iopub.execute_input": "2023-03-08T05:04:54.658269Z",
     "iopub.status.busy": "2023-03-08T05:04:54.657519Z",
     "iopub.status.idle": "2023-03-08T05:04:54.668878Z",
     "shell.execute_reply": "2023-03-08T05:04:54.667687Z",
     "shell.execute_reply.started": "2023-03-08T05:04:54.658219Z"
    }
   },
   "outputs": [
    {
     "data": {
      "text/plain": [
       "device(type='cuda')"
      ]
     },
     "execution_count": 22,
     "metadata": {},
     "output_type": "execute_result"
    }
   ],
   "source": [
    "device"
   ]
  },
  {
   "cell_type": "code",
   "execution_count": 23,
   "metadata": {
    "execution": {
     "iopub.execute_input": "2023-03-08T05:04:54.671360Z",
     "iopub.status.busy": "2023-03-08T05:04:54.670634Z",
     "iopub.status.idle": "2023-03-08T05:04:54.679975Z",
     "shell.execute_reply": "2023-03-08T05:04:54.679301Z",
     "shell.execute_reply.started": "2023-03-08T05:04:54.671317Z"
    }
   },
   "outputs": [],
   "source": [
    "y_train=np.array(y_train)\n",
    "y_test=np.array(y_test)\n"
   ]
  },
  {
   "cell_type": "markdown",
   "metadata": {},
   "source": [
    "**pushing the training data into the device so that it can be processed quickly**"
   ]
  },
  {
   "cell_type": "code",
   "execution_count": 24,
   "metadata": {
    "execution": {
     "iopub.execute_input": "2023-03-08T05:04:54.682205Z",
     "iopub.status.busy": "2023-03-08T05:04:54.681336Z",
     "iopub.status.idle": "2023-03-08T05:04:59.383567Z",
     "shell.execute_reply": "2023-03-08T05:04:59.382450Z",
     "shell.execute_reply.started": "2023-03-08T05:04:54.682164Z"
    }
   },
   "outputs": [],
   "source": [
    "X_train=(torch.tensor(X_train,dtype=torch.float32)).to(device)\n",
    "X_test=torch.tensor(X_test,dtype=torch.float32)\n",
    "y_train=torch.tensor(y_train,dtype=torch.float32).to(device)\n",
    "y_test=torch.tensor(y_test,dtype=torch.float32)\n"
   ]
  },
  {
   "cell_type": "markdown",
   "metadata": {},
   "source": [
    "**This is the dataset which returns the image pixel values and the target**"
   ]
  },
  {
   "cell_type": "code",
   "execution_count": 25,
   "metadata": {
    "execution": {
     "iopub.execute_input": "2023-03-08T05:04:59.386225Z",
     "iopub.status.busy": "2023-03-08T05:04:59.385177Z",
     "iopub.status.idle": "2023-03-08T05:04:59.392739Z",
     "shell.execute_reply": "2023-03-08T05:04:59.391644Z",
     "shell.execute_reply.started": "2023-03-08T05:04:59.386183Z"
    }
   },
   "outputs": [],
   "source": [
    "class train_dset(Dataset):\n",
    "    \n",
    "    def __init__(self,X,y):\n",
    "        \n",
    "        self.X=X\n",
    "        self.y=y\n",
    "        \n",
    "    def __len__(self):\n",
    "        return len(self.X)\n",
    "    \n",
    "    def __getitem__(self,idx):\n",
    "        \n",
    "        return self.X[idx],self.y[idx]\n",
    "    "
   ]
  },
  {
   "cell_type": "code",
   "execution_count": 26,
   "metadata": {
    "execution": {
     "iopub.execute_input": "2023-03-08T05:04:59.395097Z",
     "iopub.status.busy": "2023-03-08T05:04:59.394299Z",
     "iopub.status.idle": "2023-03-08T05:04:59.406360Z",
     "shell.execute_reply": "2023-03-08T05:04:59.405414Z",
     "shell.execute_reply.started": "2023-03-08T05:04:59.395057Z"
    }
   },
   "outputs": [],
   "source": [
    "traindset= train_dset(X_train,y_train)\n"
   ]
  },
  {
   "cell_type": "code",
   "execution_count": 27,
   "metadata": {
    "execution": {
     "iopub.execute_input": "2023-03-08T05:04:59.408325Z",
     "iopub.status.busy": "2023-03-08T05:04:59.407870Z",
     "iopub.status.idle": "2023-03-08T05:04:59.417493Z",
     "shell.execute_reply": "2023-03-08T05:04:59.416483Z",
     "shell.execute_reply.started": "2023-03-08T05:04:59.408286Z"
    }
   },
   "outputs": [],
   "source": [
    "train_loader= DataLoader(traindset,batch_size=32,shuffle=True)"
   ]
  },
  {
   "cell_type": "code",
   "execution_count": 28,
   "metadata": {
    "execution": {
     "iopub.execute_input": "2023-03-08T05:04:59.421442Z",
     "iopub.status.busy": "2023-03-08T05:04:59.420249Z",
     "iopub.status.idle": "2023-03-08T05:04:59.468448Z",
     "shell.execute_reply": "2023-03-08T05:04:59.467494Z",
     "shell.execute_reply.started": "2023-03-08T05:04:59.421378Z"
    }
   },
   "outputs": [
    {
     "data": {
      "text/plain": [
       "torch.Size([32, 2, 32, 32])"
      ]
     },
     "execution_count": 28,
     "metadata": {},
     "output_type": "execute_result"
    }
   ],
   "source": [
    "next(iter(train_loader))[0].shape"
   ]
  },
  {
   "cell_type": "code",
   "execution_count": 29,
   "metadata": {
    "execution": {
     "iopub.execute_input": "2023-03-08T05:04:59.470079Z",
     "iopub.status.busy": "2023-03-08T05:04:59.469734Z",
     "iopub.status.idle": "2023-03-08T05:04:59.475882Z",
     "shell.execute_reply": "2023-03-08T05:04:59.474534Z",
     "shell.execute_reply.started": "2023-03-08T05:04:59.470041Z"
    }
   },
   "outputs": [],
   "source": [
    "import torch\n",
    "import torch.nn as nn"
   ]
  },
  {
   "cell_type": "markdown",
   "metadata": {},
   "source": [
    "# 1. **PatchEmbed**\n",
    "\n",
    "* **input:** Tensor of the shape **(n,in_chan,widht,height)**\n",
    "\n",
    "* This class splits the image pixel and then embed them into the embedding dimension\n",
    "\n",
    "* Basically the approach here is that the image which had 2 channels that is energy channel and time channel this is passed through a conv2d layer of embed dim number of filters. This returns a matrix that has embed_dim of channels\n",
    "\n",
    "* Since the stride and the filter size of the conv3d was kept to be the same as the patch size, the formula \n",
    "\n",
    "$ finaldim = ((initialdim+2*padding-filtersize)/stride)+1$  -----A\n",
    "\n",
    "* when this formula is applied, the initaildim is taken such that patch size fits it. Therefore it will be some thing like $sqrt(numberOfPatches)* patchDim = imageDim$\n",
    "\n",
    "* Applying the above equation on equation A we get that final dim = $sqrt(numberFilters)$\n",
    "\n",
    "* So finally after passing through the conv2d layer the image matrix which was **$(n,2,32,32)$** is now changed into **($n$,$embedDim$,$sqrt(numberFilters)$,$sqrt(numberFilters)$)**\n",
    "\n",
    "* **output:** At last i have flattened the tensor using .flatten(2) which merges the dim 2 and 3 and then .transpose(1,2) which finally results in the dimesnsion **(n,n_patches,embed_dim)**"
   ]
  },
  {
   "cell_type": "code",
   "execution_count": 30,
   "metadata": {
    "execution": {
     "iopub.execute_input": "2023-03-08T05:04:59.478292Z",
     "iopub.status.busy": "2023-03-08T05:04:59.477268Z",
     "iopub.status.idle": "2023-03-08T05:04:59.489008Z",
     "shell.execute_reply": "2023-03-08T05:04:59.487763Z",
     "shell.execute_reply.started": "2023-03-08T05:04:59.478252Z"
    }
   },
   "outputs": [],
   "source": [
    "class PatchEmbed(nn.Module):\n",
    "    \"\"\"Split image into patches and then embed them.\n",
    "    Parameters\n",
    "    ----------\n",
    "    img_size : int\n",
    "        Size of the image (it is a square).\n",
    "    patch_size : int\n",
    "        Size of the patch (it is a square).\n",
    "    in_chans : int\n",
    "        Number of input channels.\n",
    "    embed_dim : int\n",
    "        The emmbedding dimension.\n",
    "    Attributes\n",
    "    ----------\n",
    "    n_patches : int\n",
    "        Number of patches inside of our image.\n",
    "    proj : nn.Conv2d\n",
    "        Convolutional layer that does both the splitting into patches\n",
    "        and their embedding.\n",
    "    \"\"\"\n",
    "    def __init__(self, img_size, patch_size, in_chans=2, embed_dim=768):\n",
    "        super().__init__()\n",
    "        self.img_size = img_size\n",
    "        self.patch_size = patch_size\n",
    "        self.n_patches = (img_size // patch_size) ** 2\n",
    "\n",
    "\n",
    "        self.proj = nn.Conv2d(\n",
    "                in_chans,\n",
    "                embed_dim,\n",
    "                kernel_size=patch_size,\n",
    "                stride=patch_size,\n",
    "        )\n",
    "\n",
    "    def forward(self, x):\n",
    "        \"\"\"Run forward pass.\n",
    "        Parameters\n",
    "        ----------\n",
    "        x : torch.Tensor\n",
    "            Shape `(n_samples, in_chans, img_size, img_size)`.\n",
    "        Returns\n",
    "        -------\n",
    "        torch.Tensor\n",
    "            Shape `(n_samples, n_patches, embed_dim)`.\n",
    "        \"\"\"\n",
    "        x = self.proj(\n",
    "                x\n",
    "            )  # (n_samples, embed_dim, n_patches ** 0.5, n_patches ** 0.5)\n",
    "        x = x.flatten(2)  # (n_samples, embed_dim, n_patches)\n",
    "        x = x.transpose(1, 2)  # (n_samples, n_patches, embed_dim)\n",
    "\n",
    "        return x"
   ]
  },
  {
   "cell_type": "markdown",
   "metadata": {},
   "source": [
    "# 2. **Attention**\n",
    "\n",
    "* **input:** Tensor of dimension **(n,n_patches+1,embed_dim)**\n",
    "\n",
    "* NOTE: Here the dim1 is n_patches +1 becuse the first patch always is the [cls] token which is used to predict the class at the end\n",
    "\n",
    "* What this class does is that it finds the relation between all the patches/tokens using the concept of attention\n",
    "\n",
    "* firstly it is passed through a linear layer that outputs 3*dim each corresponding to the qkv that is query, key and value\n",
    "\n",
    "* after that i split the 3*dim into a (3,n_heads,head_dim)\n",
    "\n",
    "* Then we matrix multiply the query with key and use the scaling factor as seen in the reseach paper\n",
    "\n",
    "* after this we use the softmax to the last dimension so that we get the probablity distribution after mutilplying the the value tensor\n",
    "\n",
    "* that tensor is called as the weighted_avg ,this is then projected by the projection layer and finally we get the output\n",
    "\n",
    "* **output:** Tensor of the shape (n,n_patches+1,embed_dim)"
   ]
  },
  {
   "cell_type": "code",
   "execution_count": 31,
   "metadata": {
    "execution": {
     "iopub.execute_input": "2023-03-08T05:04:59.490934Z",
     "iopub.status.busy": "2023-03-08T05:04:59.490554Z",
     "iopub.status.idle": "2023-03-08T05:04:59.504191Z",
     "shell.execute_reply": "2023-03-08T05:04:59.502984Z",
     "shell.execute_reply.started": "2023-03-08T05:04:59.490896Z"
    }
   },
   "outputs": [],
   "source": [
    "class Attention(nn.Module):\n",
    "    \"\"\"Attention mechanism.\n",
    "    Parameters\n",
    "    ----------\n",
    "    dim : int\n",
    "        The input and out dimension of per token features.\n",
    "    n_heads : int\n",
    "        Number of attention heads.\n",
    "    qkv_bias : bool\n",
    "        If True then we include bias to the query, key and value projections.\n",
    "    attn_p : float\n",
    "        Dropout probability applied to the query, key and value tensors.\n",
    "    proj_p : float\n",
    "        Dropout probability applied to the output tensor.\n",
    "    Attributes\n",
    "    ----------\n",
    "    scale : float\n",
    "        Normalizing consant for the dot product.\n",
    "    qkv : nn.Linear\n",
    "        Linear projection for the query, key and value.\n",
    "    proj : nn.Linear\n",
    "        Linear mapping that takes in the concatenated output of all attention\n",
    "        heads and maps it into a new space.\n",
    "    attn_drop, proj_drop : nn.Dropout\n",
    "        Dropout layers.\n",
    "    \"\"\"\n",
    "    def __init__(self, dim, n_heads=12, qkv_bias=True, attn_p=0., proj_p=0.):\n",
    "        super().__init__()\n",
    "        self.n_heads = n_heads\n",
    "        self.dim = dim\n",
    "        self.head_dim = dim // n_heads\n",
    "        self.scale = self.head_dim ** -0.5\n",
    "\n",
    "        self.qkv = nn.Linear(dim, dim * 3, bias=qkv_bias)\n",
    "        self.attn_drop = nn.Dropout(attn_p)\n",
    "        self.proj = nn.Linear(dim, dim)\n",
    "        self.proj_drop = nn.Dropout(proj_p)\n",
    "\n",
    "    def forward(self, x):\n",
    "        \"\"\"Run forward pass.\n",
    "        Parameters\n",
    "        ----------\n",
    "        x : torch.Tensor\n",
    "            Shape `(n_samples, n_patches + 1, dim)`.\n",
    "        Returns\n",
    "        -------\n",
    "        torch.Tensor\n",
    "            Shape `(n_samples, n_patches + 1, dim)`.\n",
    "        \"\"\"\n",
    "        n_samples, n_tokens, dim = x.shape\n",
    "\n",
    "        if dim != self.dim:\n",
    "            raise ValueError\n",
    "\n",
    "        qkv = self.qkv(x)  # (n_samples, n_patches + 1, 3 * dim)\n",
    "        qkv = qkv.reshape(\n",
    "                n_samples, n_tokens, 3, self.n_heads, self.head_dim\n",
    "        )  # (n_smaples, n_patches + 1, 3, n_heads, head_dim)\n",
    "        qkv = qkv.permute(\n",
    "                2, 0, 3, 1, 4\n",
    "        )  # (3, n_samples, n_heads, n_patches + 1, head_dim)\n",
    "\n",
    "        q, k, v = qkv[0], qkv[1], qkv[2]\n",
    "        k_t = k.transpose(-2, -1)  # (n_samples, n_heads, head_dim, n_patches + 1)\n",
    "        dp = (\n",
    "           q @ k_t\n",
    "        ) * self.scale # (n_samples, n_heads, n_patches + 1, n_patches + 1)\n",
    "        attn = dp.softmax(dim=-1)  # (n_samples, n_heads, n_patches + 1, n_patches + 1)\n",
    "        attn = self.attn_drop(attn)\n",
    "\n",
    "        weighted_avg = attn @ v  # (n_samples, n_heads, n_patches +1, head_dim)\n",
    "        weighted_avg = weighted_avg.transpose(\n",
    "                1, 2\n",
    "        )  # (n_samples, n_patches + 1, n_heads, head_dim)\n",
    "        weighted_avg = weighted_avg.flatten(2)  # (n_samples, n_patches + 1, dim)\n",
    "\n",
    "        x = self.proj(weighted_avg)  # (n_samples, n_patches + 1, dim)\n",
    "        x = self.proj_drop(x)  # (n_samples, n_patches + 1, dim)\n",
    "\n",
    "        return x"
   ]
  },
  {
   "cell_type": "markdown",
   "metadata": {},
   "source": [
    "# 3. Multilayer Perceptron\n",
    "\n",
    "* **input:**  Tensor of the shape (n_samples, n_patches + 1, in_features)`\n",
    "\n",
    "* the forward function of this class contains 2 fully connected layers in which there is one hidden layer and the neurons in the hidden layer is given by the mlp_ratio \n",
    "\n",
    "* the second fc layer again converts the tensor back to the input shape and it has 2 dropouts in between inorder to prevent overfitting \n",
    "        \n",
    "\n",
    "* **output:** Tensor of the shape (n_samples, n_patches +1, out_features)"
   ]
  },
  {
   "cell_type": "code",
   "execution_count": 32,
   "metadata": {
    "execution": {
     "iopub.execute_input": "2023-03-08T05:04:59.506229Z",
     "iopub.status.busy": "2023-03-08T05:04:59.505870Z",
     "iopub.status.idle": "2023-03-08T05:04:59.520987Z",
     "shell.execute_reply": "2023-03-08T05:04:59.520122Z",
     "shell.execute_reply.started": "2023-03-08T05:04:59.506188Z"
    }
   },
   "outputs": [],
   "source": [
    "class MLP(nn.Module):\n",
    "    \"\"\"Multilayer perceptron.\n",
    "    Parameters\n",
    "    ----------\n",
    "    in_features : int\n",
    "        Number of input features.\n",
    "    hidden_features : int\n",
    "        Number of nodes in the hidden layer.\n",
    "    out_features : int\n",
    "        Number of output features.\n",
    "    p : float\n",
    "        Dropout probability.\n",
    "    Attributes\n",
    "    ----------\n",
    "    fc : nn.Linear\n",
    "        The First linear layer.\n",
    "    act : nn.GELU\n",
    "        GELU activation function.\n",
    "    fc2 : nn.Linear\n",
    "        The second linear layer.\n",
    "    drop : nn.Dropout\n",
    "        Dropout layer.\n",
    "    \"\"\"\n",
    "    def __init__(self, in_features, hidden_features, out_features, p=0.):\n",
    "        super().__init__()\n",
    "        self.fc1 = nn.Linear(in_features, hidden_features)\n",
    "        self.act = nn.GELU()\n",
    "        self.fc2 = nn.Linear(hidden_features, out_features)\n",
    "        self.drop = nn.Dropout(p)\n",
    "\n",
    "    def forward(self, x):\n",
    "        \"\"\"Run forward pass.\n",
    "        Parameters\n",
    "        ----------\n",
    "        x : torch.Tensor\n",
    "            Shape `(n_samples, n_patches + 1, in_features)`.\n",
    "        Returns\n",
    "        -------\n",
    "        torch.Tensor\n",
    "            Shape `(n_samples, n_patches +1, out_features)`\n",
    "        \"\"\"\n",
    "        x = self.fc1(\n",
    "                x\n",
    "        ) # (n_samples, n_patches + 1, hidden_features)\n",
    "        x = self.act(x)  # (n_samples, n_patches + 1, hidden_features)\n",
    "        x = self.drop(x)  # (n_samples, n_patches + 1, hidden_features)\n",
    "        x = self.fc2(x)  # (n_samples, n_patches + 1, out_features)\n",
    "        x = self.drop(x)  # (n_samples, n_patches + 1, out_features)\n",
    "\n",
    "        return x"
   ]
  },
  {
   "cell_type": "markdown",
   "metadata": {},
   "source": [
    "# 4. Block\n",
    "\n",
    "* **input:** Tensor of the shape (n_samples, n_patches + 1, in_features)`\n",
    "\n",
    "* This class contains the residual block that adds itself to the output of the Attention and the MLP classes forward functions.\n",
    "\n",
    "* First the input is layer normalized and then fed into the Attention and the MLP classes \n",
    "\n",
    "\n",
    "\n",
    "* **output:** Tensor of the shape (n_samples, n_patches + 1, in_features)`"
   ]
  },
  {
   "cell_type": "code",
   "execution_count": 32,
   "metadata": {
    "execution": {
     "iopub.execute_input": "2023-03-08T05:04:59.506229Z",
     "iopub.status.busy": "2023-03-08T05:04:59.505870Z",
     "iopub.status.idle": "2023-03-08T05:04:59.520987Z",
     "shell.execute_reply": "2023-03-08T05:04:59.520122Z",
     "shell.execute_reply.started": "2023-03-08T05:04:59.506188Z"
    }
   },
   "outputs": [],
   "source": [
    "class Block(nn.Module):\n",
    "    \"\"\"Transformer block.\n",
    "    Parameters\n",
    "    ----------\n",
    "    dim : int\n",
    "        Embeddinig dimension.\n",
    "    n_heads : int\n",
    "        Number of attention heads.\n",
    "    mlp_ratio : float\n",
    "        Determines the hidden dimension size of the `MLP` module with respect\n",
    "        to `dim`.\n",
    "    qkv_bias : bool\n",
    "        If True then we include bias to the query, key and value projections.\n",
    "    p, attn_p : float\n",
    "        Dropout probability.\n",
    "    Attributes\n",
    "    ----------\n",
    "    norm1, norm2 : LayerNorm\n",
    "        Layer normalization.\n",
    "    attn : Attention\n",
    "        Attention module.\n",
    "    mlp : MLP\n",
    "        MLP module.\n",
    "    \"\"\"\n",
    "    def __init__(self, dim, n_heads, mlp_ratio=4.0, qkv_bias=True, p=0., attn_p=0.):\n",
    "        super().__init__()\n",
    "        self.norm1 = nn.LayerNorm(dim, eps=1e-6)\n",
    "        self.attn = Attention(\n",
    "                dim,\n",
    "                n_heads=n_heads,\n",
    "                qkv_bias=qkv_bias,\n",
    "                attn_p=attn_p,\n",
    "                proj_p=p\n",
    "        )\n",
    "        self.norm2 = nn.LayerNorm(dim, eps=1e-6)\n",
    "        hidden_features = int(dim * mlp_ratio)\n",
    "        self.mlp = MLP(\n",
    "                in_features=dim,\n",
    "                hidden_features=hidden_features,\n",
    "                out_features=dim,\n",
    "        )\n",
    "\n",
    "    def forward(self, x):\n",
    "        \"\"\"Run forward pass.\n",
    "        Parameters\n",
    "        ----------\n",
    "        x : torch.Tensor\n",
    "            Shape `(n_samples, n_patches + 1, dim)`.\n",
    "        Returns\n",
    "        -------\n",
    "        torch.Tensor\n",
    "            Shape `(n_samples, n_patches + 1, dim)`.\n",
    "        \"\"\"\n",
    "        x = x + self.attn(self.norm1(x))\n",
    "        x = x + self.mlp(self.norm2(x))\n",
    "\n",
    "        return x"
   ]
  },
  {
   "cell_type": "markdown",
   "metadata": {},
   "source": [
    "# 5. Vision Transformer\n",
    "\n",
    "* **input:** Tensor of the shape **(n_samples, in_chans, img_size, img_size)**\n",
    "\n",
    "* This is the final class that contains all the classes which were defined until now.\n",
    "\n",
    "* Initially I randomly initialised the cls token to the same size of that of the embed_dim \n",
    "   **(1,1,embed_dim)** , and also intialised the position embedding randomly to the shape \n",
    "   **(n,n_patches+1,embed_dim)**. Here the +1 is there for the cls token\n",
    "   \n",
    "* After this I expanded the the cls token  into the number of trianing examples along the dimension 0\n",
    "\n",
    "* Then concatenate this into the output that came after passing through the patch_embeds forward function \n",
    "\n",
    "* Did the residual adding and added the positional embedding and here the point to be noted is that python broadcasts the positional embedding tensor to the required dimension along the dim0\n",
    "\n",
    "* Now that the patches/tokens are ready we can proceed to implement the blocks which contains the attnetion and the MLP classes\n",
    "\n",
    "* In between we have normalisation so that the mean of that dimension becomes 0 and the std deviation becomes 1\n",
    "\n",
    "* This is observed that it imporoves the trainig\n",
    "\n",
    "* Now the starting token among the number of patches is taken because that is the cls token and that is used to classify furher.\n",
    "\n",
    "* the cls token is passed through the linear layer that converts it into the number of classes here i have kept it as 1 and then appplied sigmoid so that i get the probablity of that training example belonging to the class 1\n",
    "\n",
    "\n",
    "* **output:** Tensor of the shape **(n_samples, 1)**`"
   ]
  },
  {
   "cell_type": "code",
   "execution_count": 33,
   "metadata": {
    "execution": {
     "iopub.execute_input": "2023-03-08T05:04:59.523175Z",
     "iopub.status.busy": "2023-03-08T05:04:59.522509Z",
     "iopub.status.idle": "2023-03-08T05:04:59.538215Z",
     "shell.execute_reply": "2023-03-08T05:04:59.537294Z",
     "shell.execute_reply.started": "2023-03-08T05:04:59.523137Z"
    }
   },
   "outputs": [],
   "source": [
    "class VisionTransformer(nn.Module):\n",
    "    \"\"\"Simplified implementation of the Vision transformer.\n",
    "    Parameters\n",
    "    ----------\n",
    "    img_size : int\n",
    "        Both height and the width of the image (it is a square).\n",
    "    patch_size : int\n",
    "        Both height and the width of the patch (it is a square).\n",
    "    in_chans : int\n",
    "        Number of input channels.\n",
    "    n_classes : int\n",
    "        Number of classes.\n",
    "    embed_dim : int\n",
    "        Dimensionality of the token/patch embeddings.\n",
    "    depth : int\n",
    "        Number of blocks.\n",
    "    n_heads : int\n",
    "        Number of attention heads.\n",
    "    mlp_ratio : float\n",
    "        Determines the hidden dimension of the `MLP` module.\n",
    "    qkv_bias : bool\n",
    "        If True then we include bias to the query, key and value projections.\n",
    "    p, attn_p : float\n",
    "        Dropout probability.\n",
    "    Attributes\n",
    "    ----------\n",
    "    patch_embed : PatchEmbed\n",
    "        Instance of `PatchEmbed` layer.\n",
    "    cls_token : nn.Parameter\n",
    "        Learnable parameter that will represent the first token in the sequence.\n",
    "        It has `embed_dim` elements.\n",
    "    pos_emb : nn.Parameter\n",
    "        Positional embedding of the cls token + all the patches.\n",
    "        It has `(n_patches + 1) * embed_dim` elements.\n",
    "    pos_drop : nn.Dropout\n",
    "        Dropout layer.\n",
    "    blocks : nn.ModuleList\n",
    "        List of `Block` modules.\n",
    "    norm : nn.LayerNorm\n",
    "        Layer normalization.\n",
    "    \"\"\"\n",
    "    def __init__(\n",
    "            self,\n",
    "            img_size=32,\n",
    "            patch_size=16,\n",
    "            in_chans=2,\n",
    "            n_classes=1,\n",
    "            embed_dim=768,\n",
    "            depth=12,\n",
    "            n_heads=12,\n",
    "            mlp_ratio=4.,\n",
    "            qkv_bias=True,\n",
    "            p=0.,\n",
    "            attn_p=0.,\n",
    "    ):\n",
    "        super().__init__()\n",
    "\n",
    "        self.patch_embed = PatchEmbed(\n",
    "                img_size=img_size,\n",
    "                patch_size=patch_size,\n",
    "                in_chans=in_chans,\n",
    "                embed_dim=embed_dim,\n",
    "        )\n",
    "        self.cls_token = nn.Parameter(torch.zeros(1, 1, embed_dim))\n",
    "        self.pos_embed = nn.Parameter(\n",
    "                torch.zeros(1, 1 + self.patch_embed.n_patches, embed_dim)\n",
    "        )\n",
    "        self.pos_drop = nn.Dropout(p=p)\n",
    "\n",
    "        self.blocks = nn.ModuleList(\n",
    "            [\n",
    "                Block(\n",
    "                    dim=embed_dim,\n",
    "                    n_heads=n_heads,\n",
    "                    mlp_ratio=mlp_ratio,\n",
    "                    qkv_bias=qkv_bias,\n",
    "                    p=p,\n",
    "                    attn_p=attn_p,\n",
    "                )\n",
    "                for _ in range(depth)\n",
    "            ]\n",
    "        )\n",
    "\n",
    "        self.norm = nn.LayerNorm(embed_dim, eps=1e-6)\n",
    "        self.head = nn.Linear(embed_dim, n_classes)\n",
    "\n",
    "\n",
    "    def forward(self, x):\n",
    "        \"\"\"Run the forward pass.\n",
    "        Parameters\n",
    "        ----------\n",
    "        x : torch.Tensor\n",
    "            Shape `(n_samples, in_chans, img_size, img_size)`.\n",
    "        Returns\n",
    "        -------\n",
    "        logits : torch.Tensor\n",
    "            Logits over all the classes - `(n_samples, n_classes)`.\n",
    "        \"\"\"\n",
    "        n_samples = x.shape[0]\n",
    "        x = self.patch_embed(x)\n",
    "\n",
    "        cls_token = self.cls_token.expand(\n",
    "                n_samples, -1, -1\n",
    "        )  # (n_samples, 1, embed_dim)\n",
    "        x = torch.cat((cls_token, x), dim=1)  # (n_samples, 1 + n_patches, embed_dim)\n",
    "        x = x + self.pos_embed  # (n_samples, 1 + n_patches, embed_dim)\n",
    "        x = self.pos_drop(x)\n",
    "\n",
    "        for block in self.blocks:\n",
    "            x = block(x)\n",
    "\n",
    "        x = self.norm(x)\n",
    "\n",
    "        cls_token_final = x[:, 0]  # just the CLS token\n",
    "        x = self.head(cls_token_final)\n",
    "        x=torch.sigmoid(x)\n",
    "        \n",
    "\n",
    "        return x"
   ]
  },
  {
   "cell_type": "code",
   "execution_count": 34,
   "metadata": {
    "execution": {
     "iopub.execute_input": "2023-03-08T05:04:59.542088Z",
     "iopub.status.busy": "2023-03-08T05:04:59.541127Z",
     "iopub.status.idle": "2023-03-08T05:05:00.365814Z",
     "shell.execute_reply": "2023-03-08T05:05:00.364689Z",
     "shell.execute_reply.started": "2023-03-08T05:04:59.542053Z"
    }
   },
   "outputs": [],
   "source": [
    "model=VisionTransformer()"
   ]
  },
  {
   "cell_type": "code",
   "execution_count": 35,
   "metadata": {
    "execution": {
     "iopub.execute_input": "2023-03-08T05:05:00.367923Z",
     "iopub.status.busy": "2023-03-08T05:05:00.367508Z",
     "iopub.status.idle": "2023-03-08T05:05:00.373375Z",
     "shell.execute_reply": "2023-03-08T05:05:00.371958Z",
     "shell.execute_reply.started": "2023-03-08T05:05:00.367881Z"
    }
   },
   "outputs": [],
   "source": [
    "from tqdm import tqdm"
   ]
  },
  {
   "cell_type": "markdown",
   "metadata": {},
   "source": [
    "# Training Loop\n",
    "\n",
    "**number of epochs = 15**\n",
    "\n",
    "\n",
    "**criterion = nn.BCELoss()**\n",
    "\n",
    "\n",
    "**optimizer = optim.Adam()**\n",
    "\n",
    "\n",
    "**batch_size = 32**"
   ]
  },
  {
   "cell_type": "code",
   "execution_count": null,
   "metadata": {},
   "outputs": [],
   "source": [
    "import torch"
   ]
  },
  {
   "cell_type": "code",
   "execution_count": null,
   "metadata": {},
   "outputs": [],
   "source": [
    "import torch.nn as nn\n",
    "import torch.optim as optim\n",
    "import matplotlib.pyplot as plt\n",
    "\n",
    "# define hyperparameters\n",
    "batch_size = 32\n",
    "learning_rate = 1e-5\n",
    "num_epochs = 15\n",
    "\n",
    "model=model.to(device)\n",
    "\n",
    "\n",
    "# define loss function and optimizer\n",
    "criterion = nn.BCELoss()\n",
    "optimizer = optim.Adam(model.parameters(), lr=learning_rate)\n",
    "\n",
    "# initialize variables for storing loss and epoch count\n",
    "train_loss = []\n",
    "epoch_count = []\n",
    "\n",
    "# train model\n",
    "for epoch in (range(num_epochs)):\n",
    "    running_loss = 0.0\n",
    "    for i, data in enumerate(train_loader, 0):\n",
    "        # get the inputs and labels from the dataloader\n",
    "        inputs, labels = data\n",
    "\n",
    "        # zero the parameter gradients\n",
    "        optimizer.zero_grad()\n",
    "\n",
    "        # forward + backward + optimize\n",
    "        outputs = model(inputs)\n",
    "        loss = criterion(outputs, labels)\n",
    "        loss.backward()\n",
    "        optimizer.step()\n",
    "\n",
    "        # print statistics\n",
    "        running_loss += loss.item()\n",
    "\n",
    "    # store the epoch loss and epoch count\n",
    "    train_loss.append(running_loss / len(train_loader))\n",
    "    epoch_count.append(epoch + 1)\n",
    "\n",
    "    # print epoch statistics\n",
    "    print('Epoch %d loss: %.3f' % (epoch+1, running_loss / len(train_loader)))\n",
    "\n",
    "# plot the loss graph\n",
    "plt.plot(epoch_count, train_loss)\n",
    "plt.xlabel('Epoch')\n",
    "plt.ylabel('Loss')\n",
    "plt.show()\n",
    "\n",
    "print('Finished training')"
   ]
  },
  {
   "cell_type": "code",
   "execution_count": 37,
   "metadata": {
    "execution": {
     "iopub.execute_input": "2023-03-08T06:43:24.902030Z",
     "iopub.status.busy": "2023-03-08T06:43:24.901333Z",
     "iopub.status.idle": "2023-03-08T06:49:39.296560Z",
     "shell.execute_reply": "2023-03-08T06:49:39.295488Z",
     "shell.execute_reply.started": "2023-03-08T06:43:24.901984Z"
    }
   },
   "outputs": [
    {
     "name": "stdout",
     "output_type": "stream",
     "text": [
      "Test ROC AUC: 0.757\n"
     ]
    },
    {
     "data": {
      "image/png": "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\n",
      "text/plain": [
       "<Figure size 640x480 with 1 Axes>"
      ]
     },
     "metadata": {},
     "output_type": "display_data"
    }
   ],
   "source": [
    "from sklearn.metrics import roc_auc_score, roc_curve\n",
    "# set model to evaluation mode\n",
    "model.eval()\n",
    "mdoel=model.to('cpu')\n",
    "\n",
    "# evaluate test data\n",
    "with torch.no_grad():\n",
    "    y_pred = (model(X_test))\n",
    "#     test_loss = nn.BCELoss()(y_pred, y_test.float())\n",
    "    test_roc_auc = roc_auc_score(y_test, y_pred)\n",
    "\n",
    "# print('Test Loss: %.3f' % test_loss)\n",
    "print('Test ROC AUC: %.3f' % test_roc_auc)\n",
    "\n",
    "# plot ROC curve\n",
    "fpr, tpr, thresholds = roc_curve(y_test, y_pred)\n",
    "plt.plot(fpr, tpr)\n",
    "plt.xlabel('False Positive Rate')\n",
    "plt.ylabel('True Positive Rate')\n",
    "plt.title('ROC Curve')\n",
    "plt.show()\n"
   ]
  },
  {
   "cell_type": "markdown",
   "metadata": {},
   "source": [
    "This is the ROC AUC curve after training the model...."
   ]
  },
  {
   "cell_type": "markdown",
   "metadata": {},
   "source": [
    "Due to resource shortage I couldnt manage to run more epochs and one thing i noticed is that \n",
    "\n",
    "* when the epochs were increased little more after 15 the loss fell sharply and the model overfitted the data because the ROC AUC fell as the epochs were incerased in that case\n",
    "\n",
    "* I had saved the models state_dict and then transfered laerned it due to again resource shortage my model used to get chrashed again and again."
   ]
  },
  {
   "cell_type": "markdown",
   "metadata": {},
   "source": [
    "# comparision between CNN and ViT\n",
    "\n",
    "1. ROC AUC - the value of this almost close by. Talking about the partiality to CNN that it had more epochs trained and more time bevause it was trained very quickly (linear complexity). Other hand for Vision Transformer model very less number of epochs were possible to be trained and got less time to tune the hyper parameters as the training time was big (quadractic compelxity) \n",
    "\n",
    "\n",
    "2. difference in the training part:\n",
    "\n",
    "   --> CNN had more epochs\n",
    "   \n",
    "   --> learning rate was 100 times smaller in case of ViT\n",
    "   \n",
    "   --> The models are different \n",
    "   \n",
    "   \n",
    " 3. **RESULTS**\n",
    " \n",
    " --> the ROC AUC OF CNN = 80.2 \n",
    " \n",
    " --> the ROC AUC OF ViT = 75.7 (76.2)\n"
   ]
  },
  {
   "cell_type": "markdown",
   "metadata": {},
   "source": [
    "# Further plans in the ViT Model:\n",
    "\n",
    "1. As the project is based on Vision Transformer for binary classification, one of the future plans is to further optimize the model's performance. We can explore ways to fine-tune the hyperparameters and  increase the dataset size.\n",
    "\n",
    "* Have thought of the different modifications which I would perform.\n",
    "       → As stated in the research paper \"Attention is all you need\" , The time complexity of the model is O(m^2) . That is the time complexity of the model is quadratic and while I trained the model I also felt the same, It took lots of time even after using a GPU. By using filters with stride I am expecting better results because in that case the number of filters is reduced and the time is saved\n",
    "\n",
    "        Time plays a crucial role so that we can experiment with the model and tune the hyperparameters. In the case of CNN network I could manage to train the model in ⅕ th time of that taken by the ViT the reason being the above.\n",
    "\n",
    "       → Use a hybrid between the CNN and the Vision Transformer: What I meant by a hybrid is that I will run a few layers of Conv2d on the image first and then convert it into patch embed. Here in the current model the number of channels of the input was 2 and converted into the embed dimension directly. What I think is that using a couple of Convolutional layers in between would perform better.\n",
    "\n",
    "\n",
    "\n",
    "\n",
    "* Ensemble: To increase the performance of the model I have thought to implement the ensemble between multiple models. \n",
    "\n",
    "* As I read the research paper I came to know that ViT models can outcast the CNN models only with a huge amount of data. When there is less data CNN works better than ViT and vice versa when there is more data. So I want to extend the model to more training examples. One more idea that I have is that to use Data Augmentation technique.\n",
    "\n",
    "* Talking about the validation of the model I have just split the data into a train and test set. I want to extend this to K-fold cross validation so that I don't overfit the model and can fine tune the hyperparameters.\n",
    "\n",
    "* Additionally, I would investigate ways to apply the model to other similar problems or tasks. We can extend the vision transformer to the particle classification which is used in the Compact Muon Solenoid (CMS) experiments in the Large Hadron Collider (LHC).\n"
    "* I will implement other transformer based models like DeiT (Dense Encoder Innovations for Vision Transformers),TNT (Token-Transformers for Image Recognition at Scale), CaiT (Cross-Attention Image Transformer), SETR (Semi-supervised Transformers for Image Recognition), PVT (Pyramid Vision Transformer).\n "
    
   ]
  },
  {
   "cell_type": "code",
   "execution_count": null,
   "metadata": {},
   "outputs": [],
   "source": []
  }
 ],
 "metadata": {
  "kernelspec": {
   "display_name": "Python 3 (ipykernel)",
   "language": "python",
   "name": "python3"
  },
  "language_info": {
   "codemirror_mode": {
    "name": "ipython",
    "version": 3
   },
   "file_extension": ".py",
   "mimetype": "text/x-python",
   "name": "python",
   "nbconvert_exporter": "python",
   "pygments_lexer": "ipython3",
   "version": "3.10.2"
  }
 },
 "nbformat": 4,
 "nbformat_minor": 4
}
