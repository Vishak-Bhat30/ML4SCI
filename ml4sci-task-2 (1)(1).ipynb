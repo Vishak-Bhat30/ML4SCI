{
 "cells": [
  {
   "cell_type": "markdown",
   "metadata": {
    "_cell_guid": "b1076dfc-b9ad-4769-8c92-a6c4dae69d19",
    "_uuid": "8f2839f25d086af736a60e9eeb907d3b93b6e0e5"
   },
   "source": [
    "# ML4SCI TASK 2\n",
    "\n",
    "# Quark-Gluon Classification\n",
    "**ACTUALLY THE ARRAY IS OF SIZE 3 IN WHICH EACH ELEMENT IS ITSELF AN ARRAY OF 125 ELEMENTS AND THAT 125 ELEMENTS IS AN ARRAY OF 125 ELEMENTS**\n",
    "\n",
    "**THIS NOTEBOOK SHOWS THE CONVERSION OF THIS TYPE OF MATRIX INTO 3,125,125**\n",
    "\n",
    "THE KAGGLE NOTEBOOK LINK IS HERE-https://www.kaggle.com/code/vishakkbhat/ml4sci-task-2"
   ]
  },
  {
   "cell_type": "code",
   "execution_count": 31,
   "metadata": {
    "execution": {
     "iopub.execute_input": "2023-03-05T17:07:02.908462Z",
     "iopub.status.busy": "2023-03-05T17:07:02.908075Z",
     "iopub.status.idle": "2023-03-05T17:07:02.916157Z",
     "shell.execute_reply": "2023-03-05T17:07:02.915078Z",
     "shell.execute_reply.started": "2023-03-05T17:07:02.908428Z"
    }
   },
   "outputs": [],
   "source": [
    "# importing basic modules\"\n",
    "import pandas as pd\n",
    "import numpy as np"
   ]
  },
  {
   "cell_type": "markdown",
   "metadata": {},
   "source": [
    "**Lets import the data......**"
   ]
  },
  {
   "cell_type": "markdown",
   "metadata": {},
   "source": [
    "**We find that the data is toooo huge and normal pd.read_parquet('') causes cpu overload and hence doesnt get read**"
   ]
  },
  {
   "cell_type": "markdown",
   "metadata": {},
   "source": [
    "**SO WHAT IS MY APPRACH??**\n",
    "\n",
    "* 1) **I ran a for loop from 0 to total rows with step size of chunk_size variable**\n",
    "* 2) **Then reading the ith elementand converting it into pandas**\n",
    "* 3) **Lastly appending them all to form the dataFrame**"
   ]
  },
  {
   "cell_type": "markdown",
   "metadata": {},
   "source": [
    "**TO SET THE NUMBER OF EXAMPLES TO EXTRACT**\n",
    "\n",
    "\n",
    "**If u set the value of chunk size as n , then u will get total rows//n number of examples**"
   ]
  },
  {
   "cell_type": "code",
   "execution_count": 32,
   "metadata": {
    "execution": {
     "iopub.execute_input": "2023-03-05T17:07:03.015035Z",
     "iopub.status.busy": "2023-03-05T17:07:03.013433Z",
     "iopub.status.idle": "2023-03-05T17:07:06.685601Z",
     "shell.execute_reply": "2023-03-05T17:07:06.684474Z",
     "shell.execute_reply.started": "2023-03-05T17:07:03.014984Z"
    }
   },
   "outputs": [],
   "source": [
    "import pyarrow.parquet as pq\n",
    "# Set the size of each chunk in rows\n",
    "chunk_size = 25\n",
    "\n",
    "# Create a Parquet file reader object\n",
    "parquet_file = pq.ParquetFile('/kaggle/input/ml4sci/QCDToGGQQ_IMGjet_RH1all_jet0_run0_n36272.test.snappy.parquet')\n",
    "\n",
    "# Determine the total number of rows in the file\n",
    "total_rows = parquet_file.metadata.num_rows\n",
    "\n",
    "# Loop over the file in chunks\n",
    "dfs = []\n",
    "for i in range(0, total_rows, chunk_size):\n",
    "    # Read a chunk of rows from the file\n",
    "    chunk = parquet_file.read_row_group(i)\n",
    "    df = chunk.to_pandas()\n",
    "#     print(i)\n",
    "    dfs.append(df)\n",
    "\n",
    "# Concatenate all the DataFrames into a single DataFrame\n",
    "final_df = pd.concat(dfs, ignore_index=True)\n"
   ]
  },
  {
   "cell_type": "code",
   "execution_count": 33,
   "metadata": {
    "execution": {
     "iopub.execute_input": "2023-03-05T17:07:06.688206Z",
     "iopub.status.busy": "2023-03-05T17:07:06.687837Z",
     "iopub.status.idle": "2023-03-05T17:07:06.695079Z",
     "shell.execute_reply": "2023-03-05T17:07:06.694005Z",
     "shell.execute_reply.started": "2023-03-05T17:07:06.688166Z"
    }
   },
   "outputs": [
    {
     "data": {
      "text/plain": [
       "<pyarrow._parquet.FileMetaData object at 0x7f161d0b46b0>\n",
       "  created_by: parquet-cpp version 1.3.1-SNAPSHOT\n",
       "  num_columns: 4\n",
       "  num_rows: 36272\n",
       "  num_row_groups: 36272\n",
       "  format_version: 1.0\n",
       "  serialized_size: 14143781"
      ]
     },
     "execution_count": 33,
     "metadata": {},
     "output_type": "execute_result"
    }
   ],
   "source": [
    "parquet_file.metadata    #Shows us what is there inside the parquet file"
   ]
  },
  {
   "cell_type": "code",
   "execution_count": 34,
   "metadata": {
    "execution": {
     "iopub.execute_input": "2023-03-05T17:07:06.697277Z",
     "iopub.status.busy": "2023-03-05T17:07:06.696616Z",
     "iopub.status.idle": "2023-03-05T17:07:06.980580Z",
     "shell.execute_reply": "2023-03-05T17:07:06.979419Z",
     "shell.execute_reply.started": "2023-03-05T17:07:06.697234Z"
    }
   },
   "outputs": [
    {
     "data": {
      "text/html": [
       "<div>\n",
       "<style scoped>\n",
       "    .dataframe tbody tr th:only-of-type {\n",
       "        vertical-align: middle;\n",
       "    }\n",
       "\n",
       "    .dataframe tbody tr th {\n",
       "        vertical-align: top;\n",
       "    }\n",
       "\n",
       "    .dataframe thead th {\n",
       "        text-align: right;\n",
       "    }\n",
       "</style>\n",
       "<table border=\"1\" class=\"dataframe\">\n",
       "  <thead>\n",
       "    <tr style=\"text-align: right;\">\n",
       "      <th></th>\n",
       "      <th>X_jets</th>\n",
       "      <th>pt</th>\n",
       "      <th>m0</th>\n",
       "      <th>y</th>\n",
       "    </tr>\n",
       "  </thead>\n",
       "  <tbody>\n",
       "    <tr>\n",
       "      <th>0</th>\n",
       "      <td>[[[0.0, 0.0, 0.0, 0.0, 0.0, 0.0, 0.0, 0.0, 0.0...</td>\n",
       "      <td>112.411095</td>\n",
       "      <td>21.098248</td>\n",
       "      <td>0.0</td>\n",
       "    </tr>\n",
       "  </tbody>\n",
       "</table>\n",
       "</div>"
      ],
      "text/plain": [
       "                                              X_jets          pt         m0  \\\n",
       "0  [[[0.0, 0.0, 0.0, 0.0, 0.0, 0.0, 0.0, 0.0, 0.0...  112.411095  21.098248   \n",
       "\n",
       "     y  \n",
       "0  0.0  "
      ]
     },
     "execution_count": 34,
     "metadata": {},
     "output_type": "execute_result"
    }
   ],
   "source": [
    "parquet_file.read_row_group(0).to_pandas()"
   ]
  },
  {
   "cell_type": "code",
   "execution_count": 35,
   "metadata": {
    "execution": {
     "iopub.execute_input": "2023-03-05T17:07:06.983924Z",
     "iopub.status.busy": "2023-03-05T17:07:06.983509Z",
     "iopub.status.idle": "2023-03-05T17:07:06.993497Z",
     "shell.execute_reply": "2023-03-05T17:07:06.992276Z",
     "shell.execute_reply.started": "2023-03-05T17:07:06.983891Z"
    }
   },
   "outputs": [
    {
     "data": {
      "text/plain": [
       "(3,)"
      ]
     },
     "execution_count": 35,
     "metadata": {},
     "output_type": "execute_result"
    }
   ],
   "source": [
    "final_df['X_jets'][0].shape\n",
    "\n"
   ]
  },
  {
   "cell_type": "markdown",
   "metadata": {},
   "source": [
    "**Above we see that the each element under the X_jets is just an array of 3 elements... but that 3 elements is it self an array of 125 elements where that 125 elements is an array of 125 elements**"
   ]
  },
  {
   "cell_type": "markdown",
   "metadata": {},
   "source": [
    "**I created a function that stacks this and creates a 3,125,125 matrix**"
   ]
  },
  {
   "cell_type": "code",
   "execution_count": 36,
   "metadata": {
    "execution": {
     "iopub.execute_input": "2023-03-05T17:07:06.996290Z",
     "iopub.status.busy": "2023-03-05T17:07:06.995354Z",
     "iopub.status.idle": "2023-03-05T17:07:07.002812Z",
     "shell.execute_reply": "2023-03-05T17:07:07.001865Z",
     "shell.execute_reply.started": "2023-03-05T17:07:06.996251Z"
    }
   },
   "outputs": [],
   "source": [
    "def to_3d(arr):\n",
    "    vishak=[]\n",
    "    for i in range (0,3):\n",
    "        vis=np.stack(np.stack(arr)[i],axis=-1)\n",
    "        vishak.append(vis)\n",
    "    vishak=np.array(vishak)\n",
    "    return vishak\n",
    "\n",
    "    \n"
   ]
  },
  {
   "cell_type": "markdown",
   "metadata": {},
   "source": [
    "**calling the above created function**"
   ]
  },
  {
   "cell_type": "code",
   "execution_count": 37,
   "metadata": {
    "execution": {
     "iopub.execute_input": "2023-03-05T17:07:07.004651Z",
     "iopub.status.busy": "2023-03-05T17:07:07.004171Z",
     "iopub.status.idle": "2023-03-05T17:07:07.012330Z",
     "shell.execute_reply": "2023-03-05T17:07:07.011279Z",
     "shell.execute_reply.started": "2023-03-05T17:07:07.004612Z"
    }
   },
   "outputs": [],
   "source": [
    "rr=final_df['X_jets'].shape[0]"
   ]
  },
  {
   "cell_type": "code",
   "execution_count": 38,
   "metadata": {
    "execution": {
     "iopub.execute_input": "2023-03-05T17:07:07.015815Z",
     "iopub.status.busy": "2023-03-05T17:07:07.015353Z",
     "iopub.status.idle": "2023-03-05T17:07:08.554851Z",
     "shell.execute_reply": "2023-03-05T17:07:08.553771Z",
     "shell.execute_reply.started": "2023-03-05T17:07:07.015784Z"
    }
   },
   "outputs": [
    {
     "name": "stderr",
     "output_type": "stream",
     "text": [
      "/opt/conda/lib/python3.7/site-packages/ipykernel_launcher.py:2: SettingWithCopyWarning: \n",
      "A value is trying to be set on a copy of a slice from a DataFrame\n",
      "\n",
      "See the caveats in the documentation: https://pandas.pydata.org/pandas-docs/stable/user_guide/indexing.html#returning-a-view-versus-a-copy\n",
      "  \n"
     ]
    }
   ],
   "source": [
    "for i in range (0,rr):\n",
    "    final_df['X_jets'][i]=to_3d(final_df['X_jets'][i])\n",
    "    \n"
   ]
  },
  {
   "cell_type": "code",
   "execution_count": 39,
   "metadata": {
    "execution": {
     "iopub.execute_input": "2023-03-05T17:07:08.556734Z",
     "iopub.status.busy": "2023-03-05T17:07:08.556353Z",
     "iopub.status.idle": "2023-03-05T17:07:08.565681Z",
     "shell.execute_reply": "2023-03-05T17:07:08.564577Z",
     "shell.execute_reply.started": "2023-03-05T17:07:08.556675Z"
    }
   },
   "outputs": [
    {
     "data": {
      "text/plain": [
       "(array([[[0., 0., 0., ..., 0., 0., 0.],\n",
       "         [0., 0., 0., ..., 0., 0., 0.],\n",
       "         [0., 0., 0., ..., 0., 0., 0.],\n",
       "         ...,\n",
       "         [0., 0., 0., ..., 0., 0., 0.],\n",
       "         [0., 0., 0., ..., 0., 0., 0.],\n",
       "         [0., 0., 0., ..., 0., 0., 0.]],\n",
       " \n",
       "        [[0., 0., 0., ..., 0., 0., 0.],\n",
       "         [0., 0., 0., ..., 0., 0., 0.],\n",
       "         [0., 0., 0., ..., 0., 0., 0.],\n",
       "         ...,\n",
       "         [0., 0., 0., ..., 0., 0., 0.],\n",
       "         [0., 0., 0., ..., 0., 0., 0.],\n",
       "         [0., 0., 0., ..., 0., 0., 0.]],\n",
       " \n",
       "        [[0., 0., 0., ..., 0., 0., 0.],\n",
       "         [0., 0., 0., ..., 0., 0., 0.],\n",
       "         [0., 0., 0., ..., 0., 0., 0.],\n",
       "         ...,\n",
       "         [0., 0., 0., ..., 0., 0., 0.],\n",
       "         [0., 0., 0., ..., 0., 0., 0.],\n",
       "         [0., 0., 0., ..., 0., 0., 0.]]]),\n",
       " (3, 125, 125))"
      ]
     },
     "execution_count": 39,
     "metadata": {},
     "output_type": "execute_result"
    }
   ],
   "source": [
    "final_df['X_jets'][0],final_df['X_jets'][0].shape"
   ]
  },
  {
   "cell_type": "markdown",
   "metadata": {},
   "source": [
    "**So we see that our dataframe final_df now has a column called X_jets which contains 3,125,125 sized matrix**"
   ]
  },
  {
   "cell_type": "code",
   "execution_count": 40,
   "metadata": {
    "execution": {
     "iopub.execute_input": "2023-03-05T17:07:08.568081Z",
     "iopub.status.busy": "2023-03-05T17:07:08.567089Z",
     "iopub.status.idle": "2023-03-05T17:07:08.575871Z",
     "shell.execute_reply": "2023-03-05T17:07:08.574437Z",
     "shell.execute_reply.started": "2023-03-05T17:07:08.568043Z"
    }
   },
   "outputs": [],
   "source": [
    "import matplotlib.pyplot as plt"
   ]
  },
  {
   "cell_type": "markdown",
   "metadata": {},
   "source": [
    "**Lets plot and see how the image looks like**"
   ]
  },
  {
   "cell_type": "code",
   "execution_count": 41,
   "metadata": {
    "execution": {
     "iopub.execute_input": "2023-03-05T17:07:08.581261Z",
     "iopub.status.busy": "2023-03-05T17:07:08.580995Z",
     "iopub.status.idle": "2023-03-05T17:07:08.901276Z",
     "shell.execute_reply": "2023-03-05T17:07:08.900150Z",
     "shell.execute_reply.started": "2023-03-05T17:07:08.581236Z"
    }
   },
   "outputs": [
    {
     "name": "stdout",
     "output_type": "stream",
     "text": [
      "Label is =0.0\n"
     ]
    },
    {
     "data": {
      "image/png": "[encoded data removed]",
      "text/plain": [
       "<Figure size 640x480 with 1 Axes>"
      ]
     },
     "metadata": {},
     "output_type": "display_data"
    }
   ],
   "source": [
    "plt.imshow(final_df['X_jets'][0][0,:,:])\n",
    "plt.imshow(final_df['X_jets'][0][1,:,:])\n",
    "plt.imshow(final_df['X_jets'][0][2,:,:])\n",
    "\n",
    "plt.title(\"image of the first training example\");\n",
    "label=final_df['y'][0]\n",
    "print(f\"Label is ={label}\")\n"
   ]
  },
  {
   "cell_type": "markdown",
   "metadata": {},
   "source": [
    "**Plotting multiple images and seeing**"
   ]
  },
  {
   "cell_type": "code",
   "execution_count": 42,
   "metadata": {
    "execution": {
     "iopub.execute_input": "2023-03-05T17:07:08.903788Z",
     "iopub.status.busy": "2023-03-05T17:07:08.903077Z",
     "iopub.status.idle": "2023-03-05T17:07:09.751815Z",
     "shell.execute_reply": "2023-03-05T17:07:09.750692Z",
     "shell.execute_reply.started": "2023-03-05T17:07:08.903741Z"
    }
   },
   "outputs": [
    {
     "data": {
      "image/png": "[encoded data removed]",
      "text/plain": [
       "<Figure size 1000x600 with 6 Axes>"
      ]
     },
     "metadata": {},
     "output_type": "display_data"
    }
   ],
   "source": [
    "fig, axes = plt.subplots(nrows=2, ncols=3, figsize=(10, 6))\n",
    "\n",
    "# Loop over the axes and image ids, and plot each image on a separate subplot\n",
    "for i, ax in enumerate(axes.flatten()):\n",
    "    image = final_df['X_jets'][i][2,:,:]\n",
    "    ax.imshow(image)\n",
    "    ax.set_title(f'Image {i+1}')\n",
    "    \n",
    "# Adjust spacing between subplots\n",
    "plt.subplots_adjust(left=0.1, right=0.9, bottom=0.1, top=0.9, wspace=0.3, hspace=0.3)\n",
    "\n",
    "# Show the plot\n",
    "plt.show()"
   ]
  },
  {
   "cell_type": "markdown",
   "metadata": {},
   "source": [
    "# TASKS PERFORMED\n",
    "\n",
    "1. **Created a dataframe now which has the matrix of 3,125,125 and pt m0 and label y**\n",
    "2. **Now lets create the class dataset and dataloader and then split the data into training and testing set**\n",
    "3. **Lets now create the class of architecture which contains the architecture from nn.module**\n",
    "4. **Setting the optimizer and the scheduler and the criterion**\n",
    "5. **Validating our model with the help of metrics like accuracy and roc auc etc**"
   ]
  },
  {
   "cell_type": "code",
   "execution_count": 43,
   "metadata": {
    "execution": {
     "iopub.execute_input": "2023-03-05T17:07:09.754326Z",
     "iopub.status.busy": "2023-03-05T17:07:09.753580Z",
     "iopub.status.idle": "2023-03-05T17:07:09.759808Z",
     "shell.execute_reply": "2023-03-05T17:07:09.758547Z",
     "shell.execute_reply.started": "2023-03-05T17:07:09.754284Z"
    }
   },
   "outputs": [],
   "source": [
    "import torch\n",
    "import torch.nn as nn\n",
    "from torch.utils.data import DataLoader,Dataset, random_split\n",
    "import torch.optim as optim"
   ]
  },
  {
   "cell_type": "code",
   "execution_count": 44,
   "metadata": {
    "execution": {
     "iopub.execute_input": "2023-03-05T17:07:09.762800Z",
     "iopub.status.busy": "2023-03-05T17:07:09.762101Z",
     "iopub.status.idle": "2023-03-05T17:07:10.005880Z",
     "shell.execute_reply": "2023-03-05T17:07:10.004825Z",
     "shell.execute_reply.started": "2023-03-05T17:07:09.762761Z"
    }
   },
   "outputs": [
    {
     "data": {
      "text/plain": [
       "<AxesSubplot:>"
      ]
     },
     "execution_count": 44,
     "metadata": {},
     "output_type": "execute_result"
    },
    {
     "data": {
      "image/png": "[encoded data removed]",
      "text/plain": [
       "<Figure size 640x480 with 1 Axes>"
      ]
     },
     "metadata": {},
     "output_type": "display_data"
    }
   ],
   "source": [
    "final_df['y'].hist()"
   ]
  },
  {
   "cell_type": "markdown",
   "metadata": {},
   "source": [
    "**Almost equal examples for both the classes... NO DATA IMBALANCE**"
   ]
  },
  {
   "cell_type": "markdown",
   "metadata": {},
   "source": [
    "**This class below converts returns us the value of X and y which is the matrix for image and the respected targer in tensor float 32**"
   ]
  },
  {
   "cell_type": "code",
   "execution_count": 45,
   "metadata": {
    "execution": {
     "iopub.execute_input": "2023-03-05T17:07:10.009036Z",
     "iopub.status.busy": "2023-03-05T17:07:10.008614Z",
     "iopub.status.idle": "2023-03-05T17:07:10.016266Z",
     "shell.execute_reply": "2023-03-05T17:07:10.014893Z",
     "shell.execute_reply.started": "2023-03-05T17:07:10.008993Z"
    }
   },
   "outputs": [],
   "source": [
    "class QGdset(Dataset):\n",
    "    \n",
    "    def __init__(self,ddf):\n",
    "        \n",
    "        self.data=ddf\n",
    "        self.X= ddf['X_jets']\n",
    "        self.y= ddf['y']\n",
    "        self.pt= ddf['pt']\n",
    "        self.m0= ddf['m0']\n",
    "        \n",
    "    def __len__(self):\n",
    "        return (self.data.shape[0])\n",
    "    \n",
    "    def __getitem__(self,idx): \n",
    "        \n",
    "        \n",
    "        return torch.tensor(self.X[idx]/12,dtype=torch.float32), torch.tensor(self.y[idx],dtype=torch.float32)"
   ]
  },
  {
   "cell_type": "code",
   "execution_count": 46,
   "metadata": {
    "execution": {
     "iopub.execute_input": "2023-03-05T17:07:10.019074Z",
     "iopub.status.busy": "2023-03-05T17:07:10.018278Z",
     "iopub.status.idle": "2023-03-05T17:07:10.026690Z",
     "shell.execute_reply": "2023-03-05T17:07:10.025504Z",
     "shell.execute_reply.started": "2023-03-05T17:07:10.019012Z"
    }
   },
   "outputs": [],
   "source": [
    "train_data= QGdset(final_df)"
   ]
  },
  {
   "cell_type": "markdown",
   "metadata": {},
   "source": [
    "**LETS SPLIT THE train_data INTO TRAIN AND TEST SO THAT WE CAN VALIDATE OUR MODEL**"
   ]
  },
  {
   "cell_type": "code",
   "execution_count": 47,
   "metadata": {
    "execution": {
     "iopub.execute_input": "2023-03-05T17:07:10.029124Z",
     "iopub.status.busy": "2023-03-05T17:07:10.028648Z",
     "iopub.status.idle": "2023-03-05T17:07:10.037410Z",
     "shell.execute_reply": "2023-03-05T17:07:10.036207Z",
     "shell.execute_reply.started": "2023-03-05T17:07:10.029074Z"
    }
   },
   "outputs": [],
   "source": [
    "train_size = int(0.8 * len(train_data))  # use 80% of data for training\n",
    "test_size = len(train_data) - train_size  # use remaining 20% for testing\n",
    "train_dataset, test_dataset = random_split(train_data, [train_size, test_size])  # split dataset into train and test\n"
   ]
  },
  {
   "cell_type": "code",
   "execution_count": 48,
   "metadata": {
    "execution": {
     "iopub.execute_input": "2023-03-05T17:07:10.039457Z",
     "iopub.status.busy": "2023-03-05T17:07:10.039021Z",
     "iopub.status.idle": "2023-03-05T17:07:10.051087Z",
     "shell.execute_reply": "2023-03-05T17:07:10.049897Z",
     "shell.execute_reply.started": "2023-03-05T17:07:10.039419Z"
    }
   },
   "outputs": [
    {
     "data": {
      "text/plain": [
       "(1160, 291)"
      ]
     },
     "execution_count": 48,
     "metadata": {},
     "output_type": "execute_result"
    }
   ],
   "source": [
    "len(train_dataset),len(test_dataset)"
   ]
  },
  {
   "cell_type": "markdown",
   "metadata": {},
   "source": [
    "**Setting up the dataLoaders so that we can feed it to the loops further**"
   ]
  },
  {
   "cell_type": "code",
   "execution_count": 49,
   "metadata": {
    "execution": {
     "iopub.execute_input": "2023-03-05T17:07:10.053341Z",
     "iopub.status.busy": "2023-03-05T17:07:10.052898Z",
     "iopub.status.idle": "2023-03-05T17:07:10.060777Z",
     "shell.execute_reply": "2023-03-05T17:07:10.059520Z",
     "shell.execute_reply.started": "2023-03-05T17:07:10.053302Z"
    }
   },
   "outputs": [],
   "source": [
    "train_loader= DataLoader(train_dataset,batch_size=32,shuffle=True)\n",
    "test_loader=DataLoader(test_dataset,batch_size=32,shuffle=True)"
   ]
  },
  {
   "cell_type": "markdown",
   "metadata": {},
   "source": [
    "**Creating architure as below**\n",
    "\n",
    "QGArchi(\n",
    "*   (conv1): Conv2d(3, 16, kernel_size=(3, 3), stride=(1, 1), padding=(1, 1))\n",
    "*   (bn1): BatchNorm2d(16, eps=1e-05, momentum=0.1, affine=True, track_running_stats=True) \n",
    "*   (relu1): ReLU()\n",
    "*   (pool1): MaxPool2d(kernel_size=2, stride=2, padding=0, dilation=1, ceil_mode=False)\n",
    "*   (conv2): Conv2d(16, 32, kernel_size=(3, 3), stride=(1, 1), padding=(1, 1))\n",
    "*   (bn2): BatchNorm2d(32, eps=1e-05, momentum=0.1, affine=True, track_running_stats=True)\n",
    "*   (relu2): ReLU()\n",
    "*   (pool2): MaxPool2d(kernel_size=2, stride=2, padding=0, dilation=1, ceil_mode=False)\n",
    "*   (conv3): Conv2d(32, 64, kernel_size=(3, 3), stride=(1, 1), padding=(1, 1))\n",
    "*   (bn3): BatchNorm2d(64, eps=1e-05, momentum=0.1, affine=True, track_running_stats=True)\n",
    "*   (relu3): ReLU()\n",
    "*   (pool3): MaxPool2d(kernel_size=2, stride=2, padding=0, dilation=1, ceil_mode=False)\n",
    "*   (fc1): Linear(in_features=14400, out_features=128, bias=True)\n",
    "*   (fc2): Linear(in_features=128, out_features=1, bias=True))**"
   ]
  },
  {
   "cell_type": "code",
   "execution_count": 50,
   "metadata": {
    "execution": {
     "iopub.execute_input": "2023-03-05T17:07:10.062986Z",
     "iopub.status.busy": "2023-03-05T17:07:10.062520Z",
     "iopub.status.idle": "2023-03-05T17:07:10.076685Z",
     "shell.execute_reply": "2023-03-05T17:07:10.075616Z",
     "shell.execute_reply.started": "2023-03-05T17:07:10.062950Z"
    }
   },
   "outputs": [],
   "source": [
    "import torch.nn as nn\n",
    "\n",
    "class QGArchi(nn.Module):\n",
    "    def __init__(self):\n",
    "        super(QGArchi, self).__init__()\n",
    "        self.conv1 = nn.Conv2d(3, 16, kernel_size=3, stride=1, padding=1)\n",
    "        self.bn1 = nn.BatchNorm2d(16)\n",
    "        self.relu1 = nn.ReLU()\n",
    "        self.pool1 = nn.MaxPool2d(kernel_size=2, stride=2)\n",
    "        self.conv2 = nn.Conv2d(16, 32, kernel_size=3, stride=1, padding=1)\n",
    "        self.bn2 = nn.BatchNorm2d(32)\n",
    "        self.relu2 = nn.ReLU()\n",
    "        self.pool2 = nn.MaxPool2d(kernel_size=2, stride=2)\n",
    "        self.conv3 = nn.Conv2d(32, 64, kernel_size=3, stride=1, padding=1)\n",
    "        self.bn3 = nn.BatchNorm2d(64)\n",
    "        self.relu3 = nn.ReLU()\n",
    "        self.pool3 = nn.MaxPool2d(kernel_size=2, stride=2)\n",
    "        self.fc1 = nn.Linear(64 * 15 * 15, 128)\n",
    "        self.fc2 = nn.Linear(128, 1)\n",
    "\n",
    "    def forward(self, x):\n",
    "        out = self.conv1(x)\n",
    "        out = self.bn1(out)\n",
    "        out = self.relu1(out)\n",
    "        out = self.pool1(out)\n",
    "        out = self.conv2(out)\n",
    "        out = self.bn2(out)\n",
    "        out = self.relu2(out)\n",
    "        out = self.pool2(out)\n",
    "        out = self.conv3(out)\n",
    "        out = self.bn3(out)\n",
    "        out = self.relu3(out)\n",
    "        out = self.pool3(out)\n",
    "        out = out.view(out.size(0), -1)\n",
    "        out = self.fc1(out)\n",
    "        out = self.fc2(out)\n",
    "        return nn.Sigmoid()(out.squeeze())\n"
   ]
  },
  {
   "cell_type": "code",
   "execution_count": 51,
   "metadata": {
    "execution": {
     "iopub.execute_input": "2023-03-05T17:07:10.079063Z",
     "iopub.status.busy": "2023-03-05T17:07:10.078661Z",
     "iopub.status.idle": "2023-03-05T17:07:10.102043Z",
     "shell.execute_reply": "2023-03-05T17:07:10.101111Z",
     "shell.execute_reply.started": "2023-03-05T17:07:10.079024Z"
    }
   },
   "outputs": [],
   "source": [
    "model=QGArchi()"
   ]
  },
  {
   "cell_type": "code",
   "execution_count": 52,
   "metadata": {
    "execution": {
     "iopub.execute_input": "2023-03-05T17:07:10.104125Z",
     "iopub.status.busy": "2023-03-05T17:07:10.103740Z",
     "iopub.status.idle": "2023-03-05T17:07:10.128621Z",
     "shell.execute_reply": "2023-03-05T17:07:10.127651Z",
     "shell.execute_reply.started": "2023-03-05T17:07:10.104088Z"
    }
   },
   "outputs": [],
   "source": [
    "# Define the loss function\n",
    "criterion = nn.CrossEntropyLoss()\n",
    "\n",
    "# Define the learning rate and optimizer\n",
    "lr = 0.001\n",
    "optimizer = optim.Adam(QGArchi().parameters(), lr=lr)\n",
    "\n",
    "# Define the scheduler\n",
    "scheduler = torch.optim.lr_scheduler.ReduceLROnPlateau(optimizer, factor=0.1, patience=2)"
   ]
  },
  {
   "cell_type": "markdown",
   "metadata": {
    "execution": {
     "iopub.execute_input": "2023-03-05T14:54:04.170132Z",
     "iopub.status.busy": "2023-03-05T14:54:04.169406Z",
     "iopub.status.idle": "2023-03-05T14:54:04.176351Z",
     "shell.execute_reply": "2023-03-05T14:54:04.174963Z",
     "shell.execute_reply.started": "2023-03-05T14:54:04.170094Z"
    }
   },
   "source": [
    "**Lets write the code to set the device that is the GPU**"
   ]
  },
  {
   "cell_type": "code",
   "execution_count": 53,
   "metadata": {
    "execution": {
     "iopub.execute_input": "2023-03-05T17:07:10.130566Z",
     "iopub.status.busy": "2023-03-05T17:07:10.130193Z",
     "iopub.status.idle": "2023-03-05T17:07:10.136509Z",
     "shell.execute_reply": "2023-03-05T17:07:10.134938Z",
     "shell.execute_reply.started": "2023-03-05T17:07:10.130529Z"
    }
   },
   "outputs": [],
   "source": [
    "device=torch.device('cuda' if torch.cuda.is_available() else 'cpu')"
   ]
  },
  {
   "cell_type": "code",
   "execution_count": 54,
   "metadata": {
    "execution": {
     "iopub.execute_input": "2023-03-05T17:07:10.139014Z",
     "iopub.status.busy": "2023-03-05T17:07:10.137987Z",
     "iopub.status.idle": "2023-03-05T17:07:10.146912Z",
     "shell.execute_reply": "2023-03-05T17:07:10.145732Z",
     "shell.execute_reply.started": "2023-03-05T17:07:10.138971Z"
    }
   },
   "outputs": [
    {
     "data": {
      "text/plain": [
       "device(type='cuda')"
      ]
     },
     "execution_count": 54,
     "metadata": {},
     "output_type": "execute_result"
    }
   ],
   "source": [
    "device    #checking if the device is on cuda..."
   ]
  },
  {
   "cell_type": "code",
   "execution_count": 55,
   "metadata": {
    "execution": {
     "iopub.execute_input": "2023-03-05T17:07:10.149223Z",
     "iopub.status.busy": "2023-03-05T17:07:10.148420Z",
     "iopub.status.idle": "2023-03-05T17:07:10.154912Z",
     "shell.execute_reply": "2023-03-05T17:07:10.153856Z",
     "shell.execute_reply.started": "2023-03-05T17:07:10.149185Z"
    }
   },
   "outputs": [],
   "source": [
    "from sklearn.metrics import roc_auc_score, confusion_matrix ,plot_confusion_matrix,roc_curve\n",
    "import matplotlib.pyplot as plt\n",
    "import seaborn as sns\n",
    "\n",
    "\n",
    "#we need to import these stuffs to validate our model and see the losses and accuracy"
   ]
  },
  {
   "cell_type": "code",
   "execution_count": 56,
   "metadata": {
    "execution": {
     "iopub.execute_input": "2023-03-05T17:07:10.156773Z",
     "iopub.status.busy": "2023-03-05T17:07:10.156324Z",
     "iopub.status.idle": "2023-03-05T17:08:46.717260Z",
     "shell.execute_reply": "2023-03-05T17:08:46.715971Z",
     "shell.execute_reply.started": "2023-03-05T17:07:10.156733Z"
    }
   },
   "outputs": [
    {
     "name": "stdout",
     "output_type": "stream",
     "text": [
      "Epoch 1/150, Train Loss: 2.4838, Train Acc: 55.60%, Test Loss: 0.7914, Test Acc: 49.83%, ROC-AUC: 0.6149\n",
      "Epoch 00008: reducing learning rate of group 0 to 1.0000e-04.\n",
      "Epoch 00012: reducing learning rate of group 0 to 1.0000e-05.\n",
      "Epoch 00016: reducing learning rate of group 0 to 1.0000e-06.\n",
      "Epoch 00020: reducing learning rate of group 0 to 1.0000e-07.\n",
      "Epoch 00024: reducing learning rate of group 0 to 1.0000e-08.\n",
      "Epoch 31/150, Train Loss: 0.2793, Train Acc: 91.55%, Test Loss: 1.0932, Test Acc: 68.04%, ROC-AUC: 0.6929\n",
      "Epoch 61/150, Train Loss: 0.2783, Train Acc: 91.81%, Test Loss: 1.0568, Test Acc: 67.70%, ROC-AUC: 0.6925\n",
      "Epoch 91/150, Train Loss: 0.2778, Train Acc: 91.55%, Test Loss: 1.0672, Test Acc: 68.04%, ROC-AUC: 0.6930\n",
      "Epoch 121/150, Train Loss: 0.2748, Train Acc: 91.90%, Test Loss: 1.0541, Test Acc: 68.04%, ROC-AUC: 0.6927\n"
     ]
    }
   ],
   "source": [
    "# Set the number of epochs\n",
    "epochs = 150\n",
    "\n",
    "# Initialize the optimizer and the learning rate scheduler\n",
    "optimizer = torch.optim.Adam(model.parameters(), lr=0.001)\n",
    "scheduler = torch.optim.lr_scheduler.ReduceLROnPlateau(optimizer, patience=3, factor=0.1, verbose=True)\n",
    "\n",
    "# Initialize the loss function\n",
    "criterion = nn.BCELoss()\n",
    "\n",
    "# Move the model and the loss function to the device\n",
    "model.to(device)\n",
    "criterion.to(device)\n",
    "\n",
    "# Initialize the lists to store the loss and accuracy values\n",
    "train_losses = []\n",
    "test_losses = []\n",
    "train_accs = []\n",
    "test_accs = []\n",
    "\n",
    "# Iterate over the epochs\n",
    "for epoch in range(epochs):\n",
    "    # Set the model to training mode\n",
    "    model.train()\n",
    "    running_loss = 0\n",
    "    correct_train = 0\n",
    "    total_train = 0\n",
    "    \n",
    "    # Iterate over the training set\n",
    "    for X, y in train_loader:\n",
    "        # Move the input and target tensors to the device\n",
    "        X, y = X.to(device), y.to(device)\n",
    "        \n",
    "        # Zero the gradients\n",
    "        optimizer.zero_grad()\n",
    "        \n",
    "        # Forward\n",
    "        outputs = model(X)\n",
    "        \n",
    "        # Compute the loss\n",
    "        loss = criterion(outputs, y.float())\n",
    "        \n",
    "        # Backward and optimize\n",
    "        loss.backward()\n",
    "        optimizer.step()\n",
    "        \n",
    "        # Update the running loss\n",
    "        running_loss += loss.item()\n",
    "        \n",
    "        # Compute the number of correct predictions\n",
    "        predicted_train = torch.round(outputs)\n",
    "        correct_train += (predicted_train == y).sum().item()\n",
    "        total_train += y.size(0)\n",
    "    \n",
    "    # Compute the training loss and accuracy\n",
    "    train_loss = running_loss / len(train_loader)\n",
    "    train_acc = 100 * correct_train / total_train\n",
    "    train_losses.append(train_loss)\n",
    "    train_accs.append(train_acc)\n",
    "    \n",
    "    # Set the model to evaluation mode\n",
    "    model.eval()\n",
    "    running_loss = 0\n",
    "    correct_test = 0\n",
    "    total_test = 0\n",
    "    y_true = []\n",
    "    y_scores = []\n",
    "    \n",
    "    # Disable gradient computation to save memory\n",
    "    with torch.no_grad():\n",
    "        # Iterate over the test set\n",
    "        for X, y in test_loader:\n",
    "            # Move the input and target tensors to the device\n",
    "            X, y = X.to(device), y.to(device)\n",
    "            \n",
    "            # Forward\n",
    "            outputs = model(X)\n",
    "            \n",
    "            # Compute the loss\n",
    "            loss = criterion(outputs, y.float())\n",
    "            \n",
    "            # Update the running loss\n",
    "            running_loss += loss.item()\n",
    "            \n",
    "            # Compute the number of correct predictions\n",
    "            predicted_test = torch.round(outputs)\n",
    "            correct_test += (predicted_test == y).sum().item()\n",
    "            total_test += y.size(0)\n",
    "            \n",
    "            # Append the true and predicted target values\n",
    "            y_true += y.cpu().numpy().tolist()\n",
    "            y_scores += outputs.cpu().numpy().tolist()\n",
    "    \n",
    "    # Compute the test loss, accuracy, and ROC-AUC score\n",
    "    test_loss = running_loss / len(test_loader)\n",
    "    test_acc = 100 * correct_test / total_test\n",
    "    test_losses.append(test_loss)\n",
    "    test_accs.append(test_acc)\n",
    "    roc_auc = roc_auc_score(y_true, y_scores)\n",
    "    \n",
    "    # Print the loss and accuracy values\n",
    "    if(epoch%30==0):print(f\"Epoch {epoch + 1}/{epochs}, Train Loss: {train_loss:.4f}, Train Acc: {train_acc:.2f}%, Test Loss: {test_loss:.4f}, Test Acc: {test_acc:.2f}%, ROC-AUC: {roc_auc:.4f}\")\n",
    "    \n",
    "    # Update the learning\n",
    "\n",
    "    scheduler.step(test_loss)\n"
   ]
  },
  {
   "cell_type": "code",
   "execution_count": 57,
   "metadata": {
    "execution": {
     "iopub.execute_input": "2023-03-05T17:08:46.719270Z",
     "iopub.status.busy": "2023-03-05T17:08:46.718883Z",
     "iopub.status.idle": "2023-03-05T17:08:46.956810Z",
     "shell.execute_reply": "2023-03-05T17:08:46.955723Z",
     "shell.execute_reply.started": "2023-03-05T17:08:46.719225Z"
    }
   },
   "outputs": [
    {
     "data": {
      "image/png": "[encoded data removed]",
      "text/plain": [
       "<Figure size 640x480 with 1 Axes>"
      ]
     },
     "metadata": {},
     "output_type": "display_data"
    }
   ],
   "source": [
    "plt.plot(train_losses, label=\"Training Loss\")\n",
    "plt.plot(test_losses, label=\"Test Loss\")\n",
    "plt.xlabel(\"Epoch\")\n",
    "plt.ylabel(\"Loss\")\n",
    "plt.title(\"Training and Test Loss\")\n",
    "plt.legend()\n",
    "plt.show()"
   ]
  },
  {
   "cell_type": "code",
   "execution_count": 58,
   "metadata": {
    "execution": {
     "iopub.execute_input": "2023-03-05T17:08:46.958891Z",
     "iopub.status.busy": "2023-03-05T17:08:46.958487Z",
     "iopub.status.idle": "2023-03-05T17:08:47.179878Z",
     "shell.execute_reply": "2023-03-05T17:08:47.178948Z",
     "shell.execute_reply.started": "2023-03-05T17:08:46.958851Z"
    }
   },
   "outputs": [
    {
     "data": {
      "image/png": "[encoded data removed]",
      "text/plain": [
       "<Figure size 640x480 with 1 Axes>"
      ]
     },
     "metadata": {},
     "output_type": "display_data"
    }
   ],
   "source": [
    "plt.plot(train_accs, label=\"Training Accuracy\")\n",
    "plt.plot(test_accs, label=\"Test Accuracy\")\n",
    "plt.xlabel(\"Epoch\")\n",
    "plt.ylabel(\"Accuracy (%)\")\n",
    "plt.title(\"Training and Test Accuracy\")\n",
    "plt.legend()\n",
    "plt.show()"
   ]
  },
  {
   "cell_type": "code",
   "execution_count": null,
   "metadata": {},
   "outputs": [],
   "source": []
  }
 ],
 "metadata": {
  "kernelspec": {
   "display_name": "Python 3 (ipykernel)",
   "language": "python",
   "name": "python3"
  },
  "language_info": {
   "codemirror_mode": {
    "name": "ipython",
    "version": 3
   },
   "file_extension": ".py",
   "mimetype": "text/x-python",
   "name": "python",
   "nbconvert_exporter": "python",
   "pygments_lexer": "ipython3",
   "version": "3.10.2"
  }
 },
 "nbformat": 4,
 "nbformat_minor": 4
}
